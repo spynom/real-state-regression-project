{
 "cells": [
  {
   "cell_type": "markdown",
   "metadata": {},
   "source": [
    "# Import libraries"
   ]
  },
  {
   "cell_type": "code",
   "metadata": {
    "ExecuteTime": {
     "end_time": "2024-09-09T06:12:19.249320Z",
     "start_time": "2024-09-09T06:12:19.246197Z"
    }
   },
   "source": [
    "import os\n",
    "import pandas as pd\n",
    "import numpy as np"
   ],
   "outputs": [],
   "execution_count": 6
  },
  {
   "cell_type": "code",
   "metadata": {
    "ExecuteTime": {
     "end_time": "2024-09-09T06:12:19.311833Z",
     "start_time": "2024-09-09T06:12:19.309485Z"
    }
   },
   "source": [],
   "outputs": [],
   "execution_count": null
  },
  {
   "cell_type": "markdown",
   "metadata": {},
   "source": [
    "# Loading the dataset"
   ]
  },
  {
   "cell_type": "code",
   "metadata": {
    "ExecuteTime": {
     "end_time": "2024-09-09T06:12:19.367399Z",
     "start_time": "2024-09-09T06:12:19.364128Z"
    }
   },
   "source": [
    "def get_data(directory_name:str, file_name:str):\n",
    "    path = os.path.join(directory_name,f\"{file_name}.csv\")\n",
    "    return pd.read_csv(path)"
   ],
   "outputs": [],
   "execution_count": 7
  },
  {
   "cell_type": "code",
   "metadata": {
    "ExecuteTime": {
     "end_time": "2024-09-09T06:12:19.549072Z",
     "start_time": "2024-09-09T06:12:19.433755Z"
    }
   },
   "source": "flat_data=get_data(\"/home/spynom/project/real_state_price_prediction_project/data/raw\",\"scrapped_data\")",
   "outputs": [],
   "execution_count": 8
  },
  {
   "cell_type": "markdown",
   "metadata": {},
   "source": [
    "# Preliminary analysis"
   ]
  },
  {
   "cell_type": "code",
   "metadata": {
    "ExecuteTime": {
     "end_time": "2024-09-09T06:12:19.596667Z",
     "start_time": "2024-09-09T06:12:19.569878Z"
    }
   },
   "source": [
    "flat_data.sample(10)"
   ],
   "outputs": [
    {
     "data": {
      "text/plain": [
       "                                                   link             name  \\\n",
       "7388  https://www.makaan.com/noida/laureate-buildwel...  4 BHK Apartment   \n",
       "5473  https://www.makaan.com/noida/builder-project-i...  3 BHK Apartment   \n",
       "57    https://www.makaan.com/noida/ats-green-pious-h...  3 BHK Apartment   \n",
       "3394  https://www.makaan.com/noida/supertech-ecociti...  2 BHK Apartment   \n",
       "176   https://www.makaan.com/noida/gaursons-hi-tech-...  3 BHK Apartment   \n",
       "2432  https://www.makaan.com/noida/kk-buildcom-krish...  3 BHK Apartment   \n",
       "6054  https://www.makaan.com/noida/logix-group-bloss...  5 BHK Apartment   \n",
       "3459  https://www.makaan.com/noida/supertech-emerald...              NaN   \n",
       "6726  https://www.makaan.com/noida/fusion-the-rivule...  3 BHK Apartment   \n",
       "7191  https://www.makaan.com/noida/godrej-properties...  3 BHK Apartment   \n",
       "\n",
       "             size                                            address  \\\n",
       "7388  4,874 sq ft            Laureate Parx LaureateSector 108, Noida   \n",
       "5473  1,600 sq ft                                  Sector 107, Noida   \n",
       "57    1,675 sq ft               ATS Pious HideawaysSector 150, Noida   \n",
       "3394    890 sq ft                 Supertech EcocitiSector 137, Noida   \n",
       "176   1,450 sq ft  Gaursons 16th Park ViewSector 19 Yamuna Expres...   \n",
       "2432  1,450 sq ft             KK Krishna Elite Homesnoida ext, Noida   \n",
       "6054  4,500 sq ft              Logix Blossom CountySector 137, Noida   \n",
       "3459          NaN                                                NaN   \n",
       "6726  1,380 sq ft         Fusion The Rivulet Phase 1noida ext, Noida   \n",
       "7191  1,249 sq ft                Godrej Godrej WoodsSector 43, Noida   \n",
       "\n",
       "          price                                               rate  \\\n",
       "7388  6.31CrEMI   12,955/ sq ft the price/ sq ft of this proper...   \n",
       "5473     74LEMI   4,625/ sq ft the price/ sq ft of this propert...   \n",
       "57    1.75CrEMI   10,447/ sq ft the price/ sq ft of this proper...   \n",
       "3394     70LEMI   7,865/ sq ft the price/ sq ft of this propert...   \n",
       "176      92LEMI   6,344/ sq ft the price/ sq ft of this propert...   \n",
       "2432   41.5LEMI   2,862/ sq ft the price/ sq ft of this propert...   \n",
       "6054  3.75CrEMI   8,333/ sq ft the price/ sq ft of this propert...   \n",
       "3459  22.35LEMI   3,519/ sq ft the price/ sq ft of this propert...   \n",
       "6726  1.25CrEMI   9,058/ sq ft the price/ sq ft of this propert...   \n",
       "7191  3.35CrEMI   26,851/ sq ft the price/ sq ft of this proper...   \n",
       "\n",
       "     Carpet area              Status  Bathrooms New/Resale  ...  \\\n",
       "7388  4200 sq ft       Ready to move        3.0        New  ...   \n",
       "5473         NaN  Under Construction        3.0        New  ...   \n",
       "57    1430 sq ft       Ready to move        3.0     Resale  ...   \n",
       "3394         NaN       Ready to move        2.0     Resale  ...   \n",
       "176   1100 sq ft       Ready to move        3.0     Resale  ...   \n",
       "2432  1300 sq ft       Ready to move        2.0        New  ...   \n",
       "6054  4000 sq ft       Ready to move        5.0     Resale  ...   \n",
       "3459         NaN                 NaN        NaN        NaN  ...   \n",
       "6726   696 sq ft  Under Construction        2.0        New  ...   \n",
       "7191         NaN  Under Construction        NaN        New  ...   \n",
       "\n",
       "                                                RERA ID Age of Property.1  \\\n",
       "7388                                      UPRERAPRJ5998       6 - 7 years   \n",
       "5473                                                NaN               NaN   \n",
       "57                                      UPRERAPRJ442430               NaN   \n",
       "3394                                      UPRERAPRJ9744       6 - 7 years   \n",
       "176                                       UPRERAPRJ6801        0 - 1 year   \n",
       "2432                                Rera Not Applicable        0 - 1 year   \n",
       "6054                       UPRERAPRJ4466, UPRERAPRJ4411       6 - 7 years   \n",
       "3459                                                NaN               NaN   \n",
       "6726                                    UPRERAPRJ145736               NaN   \n",
       "7191  UPRERAPRJ773536, UPRERAPRJ145318, UPRERAPRJ704730               NaN   \n",
       "\n",
       "     Additional Rooms.1 Balconies.1  New/Resale.1 Ownership Type  \\\n",
       "7388                NaN         NaN           NaN            NaN   \n",
       "5473                NaN         NaN           NaN            NaN   \n",
       "57                  NaN         NaN           NaN            NaN   \n",
       "3394                NaN         NaN           NaN            NaN   \n",
       "176                 NaN         NaN           NaN            NaN   \n",
       "2432                NaN         NaN           NaN            NaN   \n",
       "6054                NaN         NaN           NaN            NaN   \n",
       "3459                NaN         NaN           NaN            NaN   \n",
       "6726                NaN         NaN           NaN            NaN   \n",
       "7191                NaN         NaN           NaN            NaN   \n",
       "\n",
       "     Booking Amount Overlooking  \\\n",
       "7388            NaN         NaN   \n",
       "5473            NaN         NaN   \n",
       "57              NaN         NaN   \n",
       "3394            NaN         NaN   \n",
       "176             NaN         NaN   \n",
       "2432            NaN         NaN   \n",
       "6054            NaN         NaN   \n",
       "3459            NaN         NaN   \n",
       "6726            NaN         NaN   \n",
       "7191            NaN         NaN   \n",
       "\n",
       "                                                      1  \\\n",
       "7388  [Jogging Track, ATM, Intercom, Lift(s), Cafete...   \n",
       "5473                                                 []   \n",
       "57    [Sports Facility, Shopping Mall, Indoor Games,...   \n",
       "3394  [Jogging Track, ATM, Intercom, Lift(s), Cafete...   \n",
       "176   [Indoor Games, Lift(s), Jogging Track, 24 X 7 ...   \n",
       "2432  [Rain Water Harvesting, Intercom, Full Power B...   \n",
       "6054  [Sports Facility, ATM, Indoor Games, Lift(s), ...   \n",
       "3459                                                NaN   \n",
       "6726  [Jogging Track, Swimming Pool, Club House, Chi...   \n",
       "7191  [Swimming Pool, School, Car Parking, Rain Wate...   \n",
       "\n",
       "                                                      2  \n",
       "7388                                                NaN  \n",
       "5473                                                NaN  \n",
       "57    [Washing Machine, BED, AC, Gas connection, Din...  \n",
       "3394                                   [Gas connection]  \n",
       "176                                    [Gas connection]  \n",
       "2432                                                NaN  \n",
       "6054                                                NaN  \n",
       "3459                                                NaN  \n",
       "6726                                                NaN  \n",
       "7191                                                NaN  \n",
       "\n",
       "[10 rows x 29 columns]"
      ],
      "text/html": [
       "<div>\n",
       "<style scoped>\n",
       "    .dataframe tbody tr th:only-of-type {\n",
       "        vertical-align: middle;\n",
       "    }\n",
       "\n",
       "    .dataframe tbody tr th {\n",
       "        vertical-align: top;\n",
       "    }\n",
       "\n",
       "    .dataframe thead th {\n",
       "        text-align: right;\n",
       "    }\n",
       "</style>\n",
       "<table border=\"1\" class=\"dataframe\">\n",
       "  <thead>\n",
       "    <tr style=\"text-align: right;\">\n",
       "      <th></th>\n",
       "      <th>link</th>\n",
       "      <th>name</th>\n",
       "      <th>size</th>\n",
       "      <th>address</th>\n",
       "      <th>price</th>\n",
       "      <th>rate</th>\n",
       "      <th>Carpet area</th>\n",
       "      <th>Status</th>\n",
       "      <th>Bathrooms</th>\n",
       "      <th>New/Resale</th>\n",
       "      <th>...</th>\n",
       "      <th>RERA ID</th>\n",
       "      <th>Age of Property.1</th>\n",
       "      <th>Additional Rooms.1</th>\n",
       "      <th>Balconies.1</th>\n",
       "      <th>New/Resale.1</th>\n",
       "      <th>Ownership Type</th>\n",
       "      <th>Booking Amount</th>\n",
       "      <th>Overlooking</th>\n",
       "      <th>1</th>\n",
       "      <th>2</th>\n",
       "    </tr>\n",
       "  </thead>\n",
       "  <tbody>\n",
       "    <tr>\n",
       "      <th>7388</th>\n",
       "      <td>https://www.makaan.com/noida/laureate-buildwel...</td>\n",
       "      <td>4 BHK Apartment</td>\n",
       "      <td>4,874 sq ft</td>\n",
       "      <td>Laureate Parx LaureateSector 108, Noida</td>\n",
       "      <td>6.31CrEMI</td>\n",
       "      <td>12,955/ sq ft the price/ sq ft of this proper...</td>\n",
       "      <td>4200 sq ft</td>\n",
       "      <td>Ready to move</td>\n",
       "      <td>3.0</td>\n",
       "      <td>New</td>\n",
       "      <td>...</td>\n",
       "      <td>UPRERAPRJ5998</td>\n",
       "      <td>6 - 7 years</td>\n",
       "      <td>NaN</td>\n",
       "      <td>NaN</td>\n",
       "      <td>NaN</td>\n",
       "      <td>NaN</td>\n",
       "      <td>NaN</td>\n",
       "      <td>NaN</td>\n",
       "      <td>[Jogging Track, ATM, Intercom, Lift(s), Cafete...</td>\n",
       "      <td>NaN</td>\n",
       "    </tr>\n",
       "    <tr>\n",
       "      <th>5473</th>\n",
       "      <td>https://www.makaan.com/noida/builder-project-i...</td>\n",
       "      <td>3 BHK Apartment</td>\n",
       "      <td>1,600 sq ft</td>\n",
       "      <td>Sector 107, Noida</td>\n",
       "      <td>74LEMI</td>\n",
       "      <td>4,625/ sq ft the price/ sq ft of this propert...</td>\n",
       "      <td>NaN</td>\n",
       "      <td>Under Construction</td>\n",
       "      <td>3.0</td>\n",
       "      <td>New</td>\n",
       "      <td>...</td>\n",
       "      <td>NaN</td>\n",
       "      <td>NaN</td>\n",
       "      <td>NaN</td>\n",
       "      <td>NaN</td>\n",
       "      <td>NaN</td>\n",
       "      <td>NaN</td>\n",
       "      <td>NaN</td>\n",
       "      <td>NaN</td>\n",
       "      <td>[]</td>\n",
       "      <td>NaN</td>\n",
       "    </tr>\n",
       "    <tr>\n",
       "      <th>57</th>\n",
       "      <td>https://www.makaan.com/noida/ats-green-pious-h...</td>\n",
       "      <td>3 BHK Apartment</td>\n",
       "      <td>1,675 sq ft</td>\n",
       "      <td>ATS Pious HideawaysSector 150, Noida</td>\n",
       "      <td>1.75CrEMI</td>\n",
       "      <td>10,447/ sq ft the price/ sq ft of this proper...</td>\n",
       "      <td>1430 sq ft</td>\n",
       "      <td>Ready to move</td>\n",
       "      <td>3.0</td>\n",
       "      <td>Resale</td>\n",
       "      <td>...</td>\n",
       "      <td>UPRERAPRJ442430</td>\n",
       "      <td>NaN</td>\n",
       "      <td>NaN</td>\n",
       "      <td>NaN</td>\n",
       "      <td>NaN</td>\n",
       "      <td>NaN</td>\n",
       "      <td>NaN</td>\n",
       "      <td>NaN</td>\n",
       "      <td>[Sports Facility, Shopping Mall, Indoor Games,...</td>\n",
       "      <td>[Washing Machine, BED, AC, Gas connection, Din...</td>\n",
       "    </tr>\n",
       "    <tr>\n",
       "      <th>3394</th>\n",
       "      <td>https://www.makaan.com/noida/supertech-ecociti...</td>\n",
       "      <td>2 BHK Apartment</td>\n",
       "      <td>890 sq ft</td>\n",
       "      <td>Supertech EcocitiSector 137, Noida</td>\n",
       "      <td>70LEMI</td>\n",
       "      <td>7,865/ sq ft the price/ sq ft of this propert...</td>\n",
       "      <td>NaN</td>\n",
       "      <td>Ready to move</td>\n",
       "      <td>2.0</td>\n",
       "      <td>Resale</td>\n",
       "      <td>...</td>\n",
       "      <td>UPRERAPRJ9744</td>\n",
       "      <td>6 - 7 years</td>\n",
       "      <td>NaN</td>\n",
       "      <td>NaN</td>\n",
       "      <td>NaN</td>\n",
       "      <td>NaN</td>\n",
       "      <td>NaN</td>\n",
       "      <td>NaN</td>\n",
       "      <td>[Jogging Track, ATM, Intercom, Lift(s), Cafete...</td>\n",
       "      <td>[Gas connection]</td>\n",
       "    </tr>\n",
       "    <tr>\n",
       "      <th>176</th>\n",
       "      <td>https://www.makaan.com/noida/gaursons-hi-tech-...</td>\n",
       "      <td>3 BHK Apartment</td>\n",
       "      <td>1,450 sq ft</td>\n",
       "      <td>Gaursons 16th Park ViewSector 19 Yamuna Expres...</td>\n",
       "      <td>92LEMI</td>\n",
       "      <td>6,344/ sq ft the price/ sq ft of this propert...</td>\n",
       "      <td>1100 sq ft</td>\n",
       "      <td>Ready to move</td>\n",
       "      <td>3.0</td>\n",
       "      <td>Resale</td>\n",
       "      <td>...</td>\n",
       "      <td>UPRERAPRJ6801</td>\n",
       "      <td>0 - 1 year</td>\n",
       "      <td>NaN</td>\n",
       "      <td>NaN</td>\n",
       "      <td>NaN</td>\n",
       "      <td>NaN</td>\n",
       "      <td>NaN</td>\n",
       "      <td>NaN</td>\n",
       "      <td>[Indoor Games, Lift(s), Jogging Track, 24 X 7 ...</td>\n",
       "      <td>[Gas connection]</td>\n",
       "    </tr>\n",
       "    <tr>\n",
       "      <th>2432</th>\n",
       "      <td>https://www.makaan.com/noida/kk-buildcom-krish...</td>\n",
       "      <td>3 BHK Apartment</td>\n",
       "      <td>1,450 sq ft</td>\n",
       "      <td>KK Krishna Elite Homesnoida ext, Noida</td>\n",
       "      <td>41.5LEMI</td>\n",
       "      <td>2,862/ sq ft the price/ sq ft of this propert...</td>\n",
       "      <td>1300 sq ft</td>\n",
       "      <td>Ready to move</td>\n",
       "      <td>2.0</td>\n",
       "      <td>New</td>\n",
       "      <td>...</td>\n",
       "      <td>Rera Not Applicable</td>\n",
       "      <td>0 - 1 year</td>\n",
       "      <td>NaN</td>\n",
       "      <td>NaN</td>\n",
       "      <td>NaN</td>\n",
       "      <td>NaN</td>\n",
       "      <td>NaN</td>\n",
       "      <td>NaN</td>\n",
       "      <td>[Rain Water Harvesting, Intercom, Full Power B...</td>\n",
       "      <td>NaN</td>\n",
       "    </tr>\n",
       "    <tr>\n",
       "      <th>6054</th>\n",
       "      <td>https://www.makaan.com/noida/logix-group-bloss...</td>\n",
       "      <td>5 BHK Apartment</td>\n",
       "      <td>4,500 sq ft</td>\n",
       "      <td>Logix Blossom CountySector 137, Noida</td>\n",
       "      <td>3.75CrEMI</td>\n",
       "      <td>8,333/ sq ft the price/ sq ft of this propert...</td>\n",
       "      <td>4000 sq ft</td>\n",
       "      <td>Ready to move</td>\n",
       "      <td>5.0</td>\n",
       "      <td>Resale</td>\n",
       "      <td>...</td>\n",
       "      <td>UPRERAPRJ4466, UPRERAPRJ4411</td>\n",
       "      <td>6 - 7 years</td>\n",
       "      <td>NaN</td>\n",
       "      <td>NaN</td>\n",
       "      <td>NaN</td>\n",
       "      <td>NaN</td>\n",
       "      <td>NaN</td>\n",
       "      <td>NaN</td>\n",
       "      <td>[Sports Facility, ATM, Indoor Games, Lift(s), ...</td>\n",
       "      <td>NaN</td>\n",
       "    </tr>\n",
       "    <tr>\n",
       "      <th>3459</th>\n",
       "      <td>https://www.makaan.com/noida/supertech-emerald...</td>\n",
       "      <td>NaN</td>\n",
       "      <td>NaN</td>\n",
       "      <td>NaN</td>\n",
       "      <td>22.35LEMI</td>\n",
       "      <td>3,519/ sq ft the price/ sq ft of this propert...</td>\n",
       "      <td>NaN</td>\n",
       "      <td>NaN</td>\n",
       "      <td>NaN</td>\n",
       "      <td>NaN</td>\n",
       "      <td>...</td>\n",
       "      <td>NaN</td>\n",
       "      <td>NaN</td>\n",
       "      <td>NaN</td>\n",
       "      <td>NaN</td>\n",
       "      <td>NaN</td>\n",
       "      <td>NaN</td>\n",
       "      <td>NaN</td>\n",
       "      <td>NaN</td>\n",
       "      <td>NaN</td>\n",
       "      <td>NaN</td>\n",
       "    </tr>\n",
       "    <tr>\n",
       "      <th>6726</th>\n",
       "      <td>https://www.makaan.com/noida/fusion-the-rivule...</td>\n",
       "      <td>3 BHK Apartment</td>\n",
       "      <td>1,380 sq ft</td>\n",
       "      <td>Fusion The Rivulet Phase 1noida ext, Noida</td>\n",
       "      <td>1.25CrEMI</td>\n",
       "      <td>9,058/ sq ft the price/ sq ft of this propert...</td>\n",
       "      <td>696 sq ft</td>\n",
       "      <td>Under Construction</td>\n",
       "      <td>2.0</td>\n",
       "      <td>New</td>\n",
       "      <td>...</td>\n",
       "      <td>UPRERAPRJ145736</td>\n",
       "      <td>NaN</td>\n",
       "      <td>NaN</td>\n",
       "      <td>NaN</td>\n",
       "      <td>NaN</td>\n",
       "      <td>NaN</td>\n",
       "      <td>NaN</td>\n",
       "      <td>NaN</td>\n",
       "      <td>[Jogging Track, Swimming Pool, Club House, Chi...</td>\n",
       "      <td>NaN</td>\n",
       "    </tr>\n",
       "    <tr>\n",
       "      <th>7191</th>\n",
       "      <td>https://www.makaan.com/noida/godrej-properties...</td>\n",
       "      <td>3 BHK Apartment</td>\n",
       "      <td>1,249 sq ft</td>\n",
       "      <td>Godrej Godrej WoodsSector 43, Noida</td>\n",
       "      <td>3.35CrEMI</td>\n",
       "      <td>26,851/ sq ft the price/ sq ft of this proper...</td>\n",
       "      <td>NaN</td>\n",
       "      <td>Under Construction</td>\n",
       "      <td>NaN</td>\n",
       "      <td>New</td>\n",
       "      <td>...</td>\n",
       "      <td>UPRERAPRJ773536, UPRERAPRJ145318, UPRERAPRJ704730</td>\n",
       "      <td>NaN</td>\n",
       "      <td>NaN</td>\n",
       "      <td>NaN</td>\n",
       "      <td>NaN</td>\n",
       "      <td>NaN</td>\n",
       "      <td>NaN</td>\n",
       "      <td>NaN</td>\n",
       "      <td>[Swimming Pool, School, Car Parking, Rain Wate...</td>\n",
       "      <td>NaN</td>\n",
       "    </tr>\n",
       "  </tbody>\n",
       "</table>\n",
       "<p>10 rows × 29 columns</p>\n",
       "</div>"
      ]
     },
     "execution_count": 9,
     "metadata": {},
     "output_type": "execute_result"
    }
   ],
   "execution_count": 9
  },
  {
   "cell_type": "code",
   "metadata": {
    "ExecuteTime": {
     "end_time": "2024-09-09T06:12:19.692029Z",
     "start_time": "2024-09-09T06:12:19.675094Z"
    }
   },
   "source": [
    "flat_data.info()"
   ],
   "outputs": [
    {
     "name": "stdout",
     "output_type": "stream",
     "text": [
      "<class 'pandas.core.frame.DataFrame'>\n",
      "RangeIndex: 9132 entries, 0 to 9131\n",
      "Data columns (total 29 columns):\n",
      " #   Column              Non-Null Count  Dtype  \n",
      "---  ------              --------------  -----  \n",
      " 0   link                9132 non-null   object \n",
      " 1   name                9086 non-null   object \n",
      " 2   size                9086 non-null   object \n",
      " 3   address             9086 non-null   object \n",
      " 4   price               9032 non-null   object \n",
      " 5   rate                9032 non-null   object \n",
      " 6   Carpet area         4697 non-null   object \n",
      " 7   Status              9086 non-null   object \n",
      " 8   Bathrooms           7274 non-null   float64\n",
      " 9   New/Resale          7799 non-null   object \n",
      " 10  Price Negotiable    1002 non-null   object \n",
      " 11  Age of Property     806 non-null    object \n",
      " 12  Floor               855 non-null    object \n",
      " 13  Additional Rooms    313 non-null    object \n",
      " 14  Balconies           123 non-null    float64\n",
      " 15  Price Negotiable.1  8084 non-null   object \n",
      " 16  Security Deposit    9086 non-null   object \n",
      " 17  Facing              4108 non-null   object \n",
      " 18  Status.1            9086 non-null   object \n",
      " 19  RERA ID             6018 non-null   object \n",
      " 20  Age of Property.1   3872 non-null   object \n",
      " 21  Additional Rooms.1  372 non-null    object \n",
      " 22  Balconies.1         582 non-null    float64\n",
      " 23  New/Resale.1        1287 non-null   object \n",
      " 24  Ownership Type      1263 non-null   object \n",
      " 25  Booking Amount      1418 non-null   object \n",
      " 26  Overlooking         1243 non-null   object \n",
      " 27  1                   9086 non-null   object \n",
      " 28  2                   3381 non-null   object \n",
      "dtypes: float64(3), object(26)\n",
      "memory usage: 2.0+ MB\n"
     ]
    }
   ],
   "execution_count": 10
  },
  {
   "cell_type": "code",
   "metadata": {
    "ExecuteTime": {
     "end_time": "2024-09-09T06:12:19.767554Z",
     "start_time": "2024-09-09T06:12:19.763146Z"
    }
   },
   "source": [
    "flat_data.shape"
   ],
   "outputs": [
    {
     "data": {
      "text/plain": [
       "(9132, 29)"
      ]
     },
     "execution_count": 11,
     "metadata": {},
     "output_type": "execute_result"
    }
   ],
   "execution_count": 11
  },
  {
   "cell_type": "code",
   "metadata": {
    "ExecuteTime": {
     "end_time": "2024-09-09T06:12:19.922952Z",
     "start_time": "2024-09-09T06:12:19.916441Z"
    }
   },
   "source": [
    "flat_data.dtypes"
   ],
   "outputs": [
    {
     "data": {
      "text/plain": [
       "link                   object\n",
       "name                   object\n",
       "size                   object\n",
       "address                object\n",
       "price                  object\n",
       "rate                   object\n",
       "Carpet area            object\n",
       "Status                 object\n",
       "Bathrooms             float64\n",
       "New/Resale             object\n",
       "Price Negotiable       object\n",
       "Age of Property        object\n",
       "Floor                  object\n",
       "Additional Rooms       object\n",
       "Balconies             float64\n",
       "Price Negotiable.1     object\n",
       "Security Deposit       object\n",
       "Facing                 object\n",
       "Status.1               object\n",
       "RERA ID                object\n",
       "Age of Property.1      object\n",
       "Additional Rooms.1     object\n",
       "Balconies.1           float64\n",
       "New/Resale.1           object\n",
       "Ownership Type         object\n",
       "Booking Amount         object\n",
       "Overlooking            object\n",
       "1                      object\n",
       "2                      object\n",
       "dtype: object"
      ]
     },
     "execution_count": 12,
     "metadata": {},
     "output_type": "execute_result"
    }
   ],
   "execution_count": 12
  },
  {
   "cell_type": "code",
   "metadata": {
    "ExecuteTime": {
     "end_time": "2024-09-09T06:12:20.087859Z",
     "start_time": "2024-09-09T06:12:20.064737Z"
    }
   },
   "source": [
    "flat_data.duplicated().sum()"
   ],
   "outputs": [
    {
     "data": {
      "text/plain": [
       "np.int64(1001)"
      ]
     },
     "execution_count": 13,
     "metadata": {},
     "output_type": "execute_result"
    }
   ],
   "execution_count": 13
  },
  {
   "cell_type": "markdown",
   "metadata": {},
   "source": [
    "**Observations:**\n",
    "- There are 9132 instances and 29 attributes\n",
    "- some attributes are repeated\n",
    "- so many attributes having misssing values.\n",
    "- most of attributes have inappropriate data types.\n",
    "- total 1001 instances are duplicated"
   ]
  },
  {
   "cell_type": "markdown",
   "metadata": {},
   "source": [
    "# Detail analysis"
   ]
  },
  {
   "cell_type": "code",
   "metadata": {
    "ExecuteTime": {
     "end_time": "2024-09-09T06:12:20.219426Z",
     "start_time": "2024-09-09T06:12:20.215667Z"
    }
   },
   "source": [
    "flat_data.columns"
   ],
   "outputs": [
    {
     "data": {
      "text/plain": [
       "Index(['link', 'name', 'size', 'address', 'price', 'rate', 'Carpet area',\n",
       "       'Status', 'Bathrooms', 'New/Resale', 'Price Negotiable',\n",
       "       'Age of Property', 'Floor', 'Additional Rooms', 'Balconies',\n",
       "       'Price Negotiable.1', 'Security Deposit', 'Facing', 'Status.1',\n",
       "       'RERA ID', 'Age of Property.1', 'Additional Rooms.1', 'Balconies.1',\n",
       "       'New/Resale.1', 'Ownership Type', 'Booking Amount', 'Overlooking', '1',\n",
       "       '2'],\n",
       "      dtype='object')"
      ]
     },
     "execution_count": 14,
     "metadata": {},
     "output_type": "execute_result"
    }
   ],
   "execution_count": 14
  },
  {
   "cell_type": "markdown",
   "metadata": {},
   "source": [
    "### name"
   ]
  },
  {
   "cell_type": "code",
   "metadata": {
    "ExecuteTime": {
     "end_time": "2024-09-09T06:12:20.380231Z",
     "start_time": "2024-09-09T06:12:20.375726Z"
    }
   },
   "source": [
    "flat_data[\"name\"].unique()"
   ],
   "outputs": [
    {
     "data": {
      "text/plain": [
       "array(['1 BHK Independent Floor', '3 BHK Apartment', '2 BHK Apartment',\n",
       "       '1 BHK Apartment', '4 BHK Apartment', '5 BHK Apartment',\n",
       "       '1 RK Studio Apartment', '3 BHK Independent Floor',\n",
       "       '7 BHK Independent Floor', '4 BHK Independent Floor',\n",
       "       '2 BHK Independent Floor', nan, '7 BHK Apartment',\n",
       "       '6 BHK Apartment', '5 BHK Independent Floor'], dtype=object)"
      ]
     },
     "execution_count": 15,
     "metadata": {},
     "output_type": "execute_result"
    }
   ],
   "execution_count": 15
  },
  {
   "cell_type": "markdown",
   "metadata": {},
   "source": [
    "### size"
   ]
  },
  {
   "cell_type": "code",
   "metadata": {
    "ExecuteTime": {
     "end_time": "2024-09-09T06:12:20.524585Z",
     "start_time": "2024-09-09T06:12:20.520003Z"
    }
   },
   "source": [
    "flat_data[\"size\"].sample(5)"
   ],
   "outputs": [
    {
     "data": {
      "text/plain": [
       "3348    1,425 sq ft\n",
       "2013    1,470 sq ft\n",
       "2646    1,515 sq ft\n",
       "4002    1,600 sq ft\n",
       "4048      975 sq ft\n",
       "Name: size, dtype: object"
      ]
     },
     "execution_count": 16,
     "metadata": {},
     "output_type": "execute_result"
    }
   ],
   "execution_count": 16
  },
  {
   "cell_type": "code",
   "metadata": {
    "ExecuteTime": {
     "end_time": "2024-09-09T06:12:20.706280Z",
     "start_time": "2024-09-09T06:12:20.692115Z"
    }
   },
   "source": [
    "flat_data[\"size\"].str.split(\" \",n=1).str.get(1).unique()"
   ],
   "outputs": [
    {
     "data": {
      "text/plain": [
       "array(['sq ft', nan], dtype=object)"
      ]
     },
     "execution_count": 17,
     "metadata": {},
     "output_type": "execute_result"
    }
   ],
   "execution_count": 17
  },
  {
   "cell_type": "markdown",
   "metadata": {},
   "source": [
    "### address"
   ]
  },
  {
   "metadata": {
    "ExecuteTime": {
     "end_time": "2024-09-09T07:31:56.327859Z",
     "start_time": "2024-09-09T07:31:56.014995Z"
    }
   },
   "cell_type": "code",
   "source": [
    "(flat_data.address.str.lower().str.replace(r'[A-Za-z0-9\\s]*?4 greater noida wes+[A-Za-z0-9\\s]*',\"4 greater noida west\",regex=True)\n",
    "                    .str.replace(r'[A-Za-z0-9\\s]*?(extension|ext)[A-Za-z0-9\\s]*',\"extension, noida\",regex=True)\n",
    "                    .str.replace(r'[A-Za-z0-9\\s]*?ambedkar city[A-Za-z0-9\\s]*',\"ambedkar city, noida\",regex=True)\n",
    "                    .str.replace(r'[A-Za-z0-9\\s]*?yamuna express[A-Za-z0-9\\s]*',\"yamuna expressway, noida\",regex=True)\n",
    "                    .str.replace(\"surajpur site 4, noida\",\"surajpur site 4, greater noida\")\n",
    "                    .str.replace(\"knowledge park 3, noida\",\"knowledge park 3, greater noida\")\n",
    "                    .str.replace(\"sikandarpur village, noida\",\"sector 87, noida\")\n",
    "                    .str.replace(\"dallupura, noida\",\"sector 10, noida\")\n",
    "                    .str.replace(\"pristine avenuegaur city road, noida\",\"gaur city, greater noida\")\n",
    "                    .str.replace(\"migsun vilaasaeta ii, noida\",\"s block, greater noida\")\n",
    "                    .str.replace(\"nirala greenshiregreater noida west road, noida\",\"greater noida west road, noida\")\n",
    "                    .str.replace(\"home and soul f premiereyeida, noida\",\"jal vayu vihar, noida\")\n",
    "                    .str.replace(\"apte gra indraprastha phase 2shramik kunj, noida\",\"sector 93, noida\")\n",
    "                    .str.replace(\"apte gra indraprastha phase 2shramik kunj, noida\",\"sector 93, noida\")\n",
    "                    .str.replace(r'[0-9a-z ]+sector',\"sector\" ,regex=True).str.replace(\"-\",'')\n",
    "                    .str.replace(\"noida, \",'')   \n",
    "                    .str.replace(r\"sector[\\s0]*\", \"sector \",regex=True)\n",
    "                    .str.replace(r\"[A-Za-z0-9\\s,]*greater noida[A-Za-z0-9\\s,]*\",\"greater-noida\",regex=True)\n",
    "                    .str.replace(r\"[,]* noida\",\", noida\",regex=True)\n",
    "                    .str.replace('dream house sr construction dream house sector 73, noida',\"sector 73, noida\")\n",
    "                    .str.replace(r\"sector 93[\\sa-z]+, noida\",\"sector 93, noida\",regex=True)\n",
    "                    .replace(\"sector 143b, noida\",\"sector 143, noida\")\n",
    "                    .replace('sector 16b, noida','sector 16, noida')\n",
    "                    .replace('sector 140a, noida','sector 140, noida')\n",
    "                    .replace('sector 15a, noida','sector 15, noida')\n",
    "                    .replace('sector 25a, noida','sector 25, noida')\n",
    "                    .replace(\"greater-noida\", \"greater noida\")\n",
    "                    \n",
    "                        ).unique()"
   ],
   "outputs": [
    {
     "data": {
      "text/plain": [
       "array(['sector 70, noida', 'sector 75, noida', 'yamuna expressway, noida',\n",
       "       'sector 49, noida', 'sector 78, noida', 'sector 143, noida',\n",
       "       'sector 74, noida', 'sector 93, noida', 'sector 53, noida',\n",
       "       'sector 134, noida', 'sector 126, noida', 'sector 45, noida',\n",
       "       'sector 151, noida', 'extension, noida', 'sector 137, noida',\n",
       "       'sector 44, noida', 'sector 129, noida', 'sector 107, noida',\n",
       "       'sector 168, noida', 'sector 16, noida', 'sector 128, noida',\n",
       "       'sector 73, noida', 'sector 144, noida', 'sector 150, noida',\n",
       "       'sector 82, noida', 'sector 100, noida', 'sector 72, noida',\n",
       "       'sector 120, noida', 'sector 50, noida', 'sector 117, noida',\n",
       "       'sector 108, noida', 'sector 79, noida', 'sector 77, noida',\n",
       "       'sector 130, noida', 'sector 146, noida', 'sector 76, noida',\n",
       "       'sector 121, noida', 'sector 104, noida', 'sector 101, noida',\n",
       "       'sector 153, noida', 'sector 36, noida', 'greater noida',\n",
       "       'sector 102, noida', 'sector 51, noida', 'sector 43, noida',\n",
       "       'sector 34, noida', 'sector 110, noida', 'sector 152, noida',\n",
       "       'sector 119, noida', 'sector 71, noida', 'sector 94, noida', nan,\n",
       "       'sector 32, noida', 'sector 135, noida', 'sector 62, noida',\n",
       "       'sector 131, noida', 'sector 19, noida', 'sector 18, noida',\n",
       "       'sector 89, noida', 'sector 37, noida', 'sector 122, noida',\n",
       "       'sector 63, noida', 'sector 132, noida', 'sector 133, noida',\n",
       "       'sector 52, noida', 'sector 118, noida', 'sector 15, noida',\n",
       "       'sector 29, noida', 'sector 61, noida', 'sector 87, noida',\n",
       "       'sector 48, noida', 'yeida, noida', 'sector 7, noida',\n",
       "       'sector 47, noida', 'sector 24, noida', 'sector 28, noida',\n",
       "       'sector 10, noida', 'kulesara, noida', 'sector 46, noida',\n",
       "       'sector 1, noida', 'sector 115, noida', 'sector 124, noida',\n",
       "       'sector 163, noida', 'sector 81, noida', 'ambedkar city, noida',\n",
       "       'nitikhand 1noida bridge, noida', 'sector 166, noida',\n",
       "       'palm villagenoida', 'sector 140, noida', 'sector 12, noida',\n",
       "       'sector 27, noida', 'sector 90, noida', 'sector 35, noida',\n",
       "       'sector 56, noida', 'sector 113, noida', 'sector 86, noida',\n",
       "       'sector 162, noida', 'sector 88, noida', 'sector 98, noida',\n",
       "       'jal vayu vihar, noida', 'sector 96, noida', 'sector 25, noida',\n",
       "       'bhavanam white cottage villasjj colony, noida',\n",
       "       'sector 92, noida', 'sector 112, noida', 'sector 123, noida'],\n",
       "      dtype=object)"
      ]
     },
     "execution_count": 40,
     "metadata": {},
     "output_type": "execute_result"
    }
   ],
   "execution_count": 40
  },
  {
   "cell_type": "code",
   "execution_count": 13,
   "metadata": {},
   "outputs": [],
   "source": [
    "temp=flat_data.copy()"
   ]
  },
  {
   "cell_type": "code",
   "execution_count": 14,
   "metadata": {},
   "outputs": [
    {
     "data": {
      "text/plain": [
       "array(['Thv Rudransh Green Vistanoida ext, Noida',\n",
       "       'Fusion The Rivulet Phase 1noida ext, Noida',\n",
       "       'Thv AS Ultima Onenoida ext, Noida',\n",
       "       'Gaursons India Gaur City 2 16th AvenueUrbainia Trinity Noida Extension Yakubpur Noida, Noida',\n",
       "       'Golfgreen Elite XNoida Extensions, Noida',\n",
       "       'Sublime Spring ElmasPhase 2 Noida Extension, Noida',\n",
       "       'Thv Orchid Heightsnoida ext, Noida',\n",
       "       'City Antalya HeightsNoida Extensions, Noida',\n",
       "       'Path View NCR Lotus Tower Garden CityNoida Extensions, Noida',\n",
       "       'Trinity Primusnoida ext, Noida',\n",
       "       'Srijee Saraswati Smart HomesNoida Extensions, Noida',\n",
       "       'Phase 2 Noida Extension, Noida',\n",
       "       'Ambesten Twin Chaletnoida ext, Noida',\n",
       "       'Trinity High Street South Avenuenoida ext, Noida',\n",
       "       'Trinity High Street North Avenuenoida ext, Noida',\n",
       "       'KK Krishna Elite Homesnoida ext, Noida',\n",
       "       'Gaurik Krishna Homes 2Noida Extensions, Noida',\n",
       "       'Sam Citynoida ext, Noida',\n",
       "       'Ajay Eros Sampoornam 3Noida Extensions, Noida',\n",
       "       'Universal Antalya Heights Phase INoida Extensions, Noida',\n",
       "       'Shrinath Gokul ResidencyPhase 2 Noida Extension, Noida',\n",
       "       'Ansal Megapolis Independent TerracesUrbainia Trinity Noida Extension Yakubpur Noida, Noida',\n",
       "       'Vyom Probuild Organic Golf HomesPhase 2 Noida Extension, Noida',\n",
       "       'JM florance Noida extensionTech Zone 4 Greater Noida Wes, Noida',\n",
       "       'Panchasheel green2Noida Extn, Noida',\n",
       "       'ATS NovilityNoida Extn, Noida', 'ACe DivinoNoida Extn, Noida',\n",
       "       'Express AstraNoida Extn, Noida',\n",
       "       'RG Luxury HomesNoida Extn, Noida',\n",
       "       'Ace DivinoPhase 2 Noida Extension, Noida',\n",
       "       'Irish Pearls Noida ExtensionNoida Extn, Noida',\n",
       "       'Fusion HomesNoida Extn, Noida', 'Arihant AbodeNoida Extn, Noida',\n",
       "       'Arihant Arihant AmbarPhase 2 Noida Extension, Noida',\n",
       "       'Fusion The Brook and RivuletNoida Extn, Noida',\n",
       "       'Capital AthenaNoida Extn, Noida',\n",
       "       'AIG RoyalBlock D Noida Extension, Noida',\n",
       "       'Supertech Eco Village 2Noida Extn, Noida',\n",
       "       'Eros SampoornamNoida Extn, Noida',\n",
       "       'Mahagun Mywoods MarvellaPhase 2 Noida Extension, Noida',\n",
       "       'WTC Noida Riverside ResidencesNoida Extensions, Noida',\n",
       "       'NXT VIP HomesPhase 2 Noida Extension, Noida',\n",
       "       'Bliss Royal Enclave Phase IIPhase 2 Noida Extension, Noida',\n",
       "       'Bliss Royal Enclave Phase IPhase 2 Noida Extension, Noida',\n",
       "       'USB Vihaan Group HousingPhase 2 Noida Extension, Noida',\n",
       "       'Apex Buildcon Apex Golf ValleyPhase 2 Noida Extension, Noida',\n",
       "       'Reputed Builder Greater Noida Authority FlatPhase 2 Noida Extension, Noida',\n",
       "       'Amrapali Green ValleyPhase 2 Noida Extension, Noida',\n",
       "       'Avj AVJ Ace CityPhase 2 Noida Extension, Noida'], dtype=object)"
      ]
     },
     "execution_count": 14,
     "metadata": {},
     "output_type": "execute_result"
    }
   ],
   "source": [
    "temp[\"address\"].fillna(\"sector\").loc[lambda x:~ x.str.lower().str.contains(\"sector\")].loc[lambda x: x.str.lower().str.contains(\"extension|ext\",regex=True)].unique()"
   ]
  },
  {
   "cell_type": "code",
   "execution_count": 15,
   "metadata": {},
   "outputs": [
    {
     "data": {
      "text/plain": [
       "120"
      ]
     },
     "execution_count": 15,
     "metadata": {},
     "output_type": "execute_result"
    }
   ],
   "source": [
    "flat_data[\"address\"].str.split(\"Sector\").str.get(1).str.replace(\"-\",\"\").str.strip().str.split(\",\").str.get(0).replace(\"Nodia\",\"\").str.strip().unique().size"
   ]
  },
  {
   "cell_type": "markdown",
   "metadata": {},
   "source": [
    "### price"
   ]
  },
  {
   "cell_type": "code",
   "execution_count": 16,
   "metadata": {},
   "outputs": [
    {
     "data": {
      "text/plain": [
       "array(['L', 'Cr', nan, 'CrNegotiable', 'LNegotiable'], dtype=object)"
      ]
     },
     "execution_count": 16,
     "metadata": {},
     "output_type": "execute_result"
    }
   ],
   "source": [
    "flat_data[\"price\"].str.replace(\"EMI\",\"\").str.replace(r\"[0-9.]\",\"\",regex=True).unique()"
   ]
  },
  {
   "cell_type": "code",
   "execution_count": 17,
   "metadata": {},
   "outputs": [],
   "source": [
    "df_=flat_data.assign(**{\"amount\":flat_data[\"price\"].str.replace(\"EMI\",\"\").str.extract(r'(\\d+\\.\\d+)').astype(float),\n",
    "\"unit\":flat_data[\"price\"].str.replace(\"EMI\",\"\").str.replace(r\"[0-9.]\",\"\",regex=True)})"
   ]
  },
  {
   "cell_type": "code",
   "execution_count": 18,
   "metadata": {},
   "outputs": [
    {
     "name": "stderr",
     "output_type": "stream",
     "text": [
      "/tmp/ipykernel_372/3294693015.py:1: FutureWarning: Logical ops (and, or, xor) between Pandas objects and dtype-less sequences (e.g. list, tuple) are deprecated and will raise in a future version. Wrap the object in a Series, Index, or np.array before operating instead.\n",
      "  df_[(df_[\"amount\"]>10)&(df_[\"unit\"]==\"Cr\")&[\"name\"]==\"3 BHK Apartment\"]\n"
     ]
    },
    {
     "data": {
      "text/html": [
       "<div>\n",
       "<style scoped>\n",
       "    .dataframe tbody tr th:only-of-type {\n",
       "        vertical-align: middle;\n",
       "    }\n",
       "\n",
       "    .dataframe tbody tr th {\n",
       "        vertical-align: top;\n",
       "    }\n",
       "\n",
       "    .dataframe thead th {\n",
       "        text-align: right;\n",
       "    }\n",
       "</style>\n",
       "<table border=\"1\" class=\"dataframe\">\n",
       "  <thead>\n",
       "    <tr style=\"text-align: right;\">\n",
       "      <th></th>\n",
       "      <th>link</th>\n",
       "      <th>name</th>\n",
       "      <th>size</th>\n",
       "      <th>address</th>\n",
       "      <th>price</th>\n",
       "      <th>rate</th>\n",
       "      <th>Carpet area</th>\n",
       "      <th>Status</th>\n",
       "      <th>Bathrooms</th>\n",
       "      <th>New/Resale</th>\n",
       "      <th>...</th>\n",
       "      <th>Additional Rooms.1</th>\n",
       "      <th>Balconies.1</th>\n",
       "      <th>New/Resale.1</th>\n",
       "      <th>Ownership Type</th>\n",
       "      <th>Booking Amount</th>\n",
       "      <th>Overlooking</th>\n",
       "      <th>1</th>\n",
       "      <th>2</th>\n",
       "      <th>amount</th>\n",
       "      <th>unit</th>\n",
       "    </tr>\n",
       "  </thead>\n",
       "  <tbody>\n",
       "  </tbody>\n",
       "</table>\n",
       "<p>0 rows × 31 columns</p>\n",
       "</div>"
      ],
      "text/plain": [
       "Empty DataFrame\n",
       "Columns: [link, name, size, address, price, rate, Carpet area, Status, Bathrooms, New/Resale, Price Negotiable, Age of Property, Floor, Additional Rooms, Balconies, Price Negotiable.1, Security Deposit, Facing, Status.1, RERA ID, Age of Property.1, Additional Rooms.1, Balconies.1, New/Resale.1, Ownership Type, Booking Amount, Overlooking, 1, 2, amount, unit]\n",
       "Index: []\n",
       "\n",
       "[0 rows x 31 columns]"
      ]
     },
     "execution_count": 18,
     "metadata": {},
     "output_type": "execute_result"
    }
   ],
   "source": [
    "df_[(df_[\"amount\"]>10)&(df_[\"unit\"]==\"Cr\")&[\"name\"]==\"3 BHK Apartment\"]"
   ]
  },
  {
   "cell_type": "markdown",
   "metadata": {},
   "source": [
    "### rate"
   ]
  },
  {
   "cell_type": "code",
   "execution_count": 19,
   "metadata": {},
   "outputs": [
    {
     "data": {
      "text/plain": [
       "array(['sq ft', nan], dtype=object)"
      ]
     },
     "execution_count": 19,
     "metadata": {},
     "output_type": "execute_result"
    }
   ],
   "source": [
    "flat_data[\"rate\"].str.extract(r\"([a-z]+ [a-z]+)\").iloc[:,0].unique()"
   ]
  },
  {
   "cell_type": "markdown",
   "metadata": {},
   "source": [
    "### Carpet area"
   ]
  },
  {
   "cell_type": "code",
   "execution_count": 20,
   "metadata": {},
   "outputs": [
    {
     "data": {
      "text/plain": [
       "array(['sq ft', nan], dtype=object)"
      ]
     },
     "execution_count": 20,
     "metadata": {},
     "output_type": "execute_result"
    }
   ],
   "source": [
    "flat_data[\"Carpet area\"].str.extract(r\"([a-z]+ [a-z]+)\").iloc[:,0].unique()"
   ]
  },
  {
   "cell_type": "markdown",
   "metadata": {},
   "source": [
    "### Status & Status.1"
   ]
  },
  {
   "cell_type": "code",
   "execution_count": 21,
   "metadata": {},
   "outputs": [
    {
     "data": {
      "text/html": [
       "<div>\n",
       "<style scoped>\n",
       "    .dataframe tbody tr th:only-of-type {\n",
       "        vertical-align: middle;\n",
       "    }\n",
       "\n",
       "    .dataframe tbody tr th {\n",
       "        vertical-align: top;\n",
       "    }\n",
       "\n",
       "    .dataframe thead th {\n",
       "        text-align: right;\n",
       "    }\n",
       "</style>\n",
       "<table border=\"1\" class=\"dataframe\">\n",
       "  <thead>\n",
       "    <tr style=\"text-align: right;\">\n",
       "      <th></th>\n",
       "      <th></th>\n",
       "    </tr>\n",
       "    <tr>\n",
       "      <th>Status</th>\n",
       "      <th>Status.1</th>\n",
       "    </tr>\n",
       "  </thead>\n",
       "  <tbody>\n",
       "    <tr>\n",
       "      <th rowspan=\"3\" valign=\"top\">Ready to move</th>\n",
       "      <th>Furnished</th>\n",
       "    </tr>\n",
       "    <tr>\n",
       "      <th>Semi-Furnished</th>\n",
       "    </tr>\n",
       "    <tr>\n",
       "      <th>Unfurnished</th>\n",
       "    </tr>\n",
       "    <tr>\n",
       "      <th rowspan=\"3\" valign=\"top\">Under Construction</th>\n",
       "      <th>Furnished</th>\n",
       "    </tr>\n",
       "    <tr>\n",
       "      <th>Semi-Furnished</th>\n",
       "    </tr>\n",
       "    <tr>\n",
       "      <th>Unfurnished</th>\n",
       "    </tr>\n",
       "  </tbody>\n",
       "</table>\n",
       "</div>"
      ],
      "text/plain": [
       "Empty DataFrame\n",
       "Columns: []\n",
       "Index: [(Ready to move, Furnished), (Ready to move, Semi-Furnished), (Ready to move, Unfurnished), (Under Construction, Furnished), (Under Construction, Semi-Furnished), (Under Construction, Unfurnished)]"
      ]
     },
     "execution_count": 21,
     "metadata": {},
     "output_type": "execute_result"
    }
   ],
   "source": [
    "flat_data[[\"Status\",\"Status.1\"]].groupby([\"Status\",\"Status.1\"]).count()"
   ]
  },
  {
   "cell_type": "markdown",
   "metadata": {},
   "source": [
    "### Bathrooms"
   ]
  },
  {
   "cell_type": "code",
   "execution_count": 22,
   "metadata": {},
   "outputs": [
    {
     "data": {
      "text/plain": [
       "array([ 1.,  3.,  2.,  4.,  5., nan,  8.,  6.,  7.])"
      ]
     },
     "execution_count": 22,
     "metadata": {},
     "output_type": "execute_result"
    }
   ],
   "source": [
    "flat_data[\"Bathrooms\"].unique()"
   ]
  },
  {
   "cell_type": "code",
   "execution_count": 23,
   "metadata": {},
   "outputs": [
    {
     "data": {
      "text/plain": [
       "dtype('float64')"
      ]
     },
     "execution_count": 23,
     "metadata": {},
     "output_type": "execute_result"
    }
   ],
   "source": [
    "flat_data[\"Bathrooms\"].dtype"
   ]
  },
  {
   "cell_type": "markdown",
   "metadata": {},
   "source": [
    "### New/Resale & New/Resale.1"
   ]
  },
  {
   "cell_type": "code",
   "execution_count": 24,
   "metadata": {},
   "outputs": [
    {
     "data": {
      "text/plain": [
       "array(['Resale', 'New', nan], dtype=object)"
      ]
     },
     "execution_count": 24,
     "metadata": {},
     "output_type": "execute_result"
    }
   ],
   "source": [
    "flat_data[\"New/Resale\"].unique()"
   ]
  },
  {
   "cell_type": "code",
   "execution_count": 79,
   "metadata": {},
   "outputs": [
    {
     "data": {
      "text/html": [
       "<div>\n",
       "<style scoped>\n",
       "    .dataframe tbody tr th:only-of-type {\n",
       "        vertical-align: middle;\n",
       "    }\n",
       "\n",
       "    .dataframe tbody tr th {\n",
       "        vertical-align: top;\n",
       "    }\n",
       "\n",
       "    .dataframe thead th {\n",
       "        text-align: right;\n",
       "    }\n",
       "</style>\n",
       "<table border=\"1\" class=\"dataframe\">\n",
       "  <thead>\n",
       "    <tr style=\"text-align: right;\">\n",
       "      <th></th>\n",
       "      <th>New/Resale.1</th>\n",
       "      <th>New/Resale</th>\n",
       "    </tr>\n",
       "  </thead>\n",
       "  <tbody>\n",
       "  </tbody>\n",
       "</table>\n",
       "</div>"
      ],
      "text/plain": [
       "Empty DataFrame\n",
       "Columns: [New/Resale.1, New/Resale]\n",
       "Index: []"
      ]
     },
     "execution_count": 79,
     "metadata": {},
     "output_type": "execute_result"
    }
   ],
   "source": [
    "flat_data[[\"New/Resale.1\",\"New/Resale\"]][~(flat_data[\"New/Resale.1\"].isnull())&(flat_data[\"New/Resale.1\"].isnull())]"
   ]
  },
  {
   "cell_type": "markdown",
   "metadata": {},
   "source": [
    "### Price Negotiable & Price Negotiable.1"
   ]
  },
  {
   "cell_type": "code",
   "execution_count": 25,
   "metadata": {},
   "outputs": [
    {
     "data": {
      "text/html": [
       "<div>\n",
       "<style scoped>\n",
       "    .dataframe tbody tr th:only-of-type {\n",
       "        vertical-align: middle;\n",
       "    }\n",
       "\n",
       "    .dataframe tbody tr th {\n",
       "        vertical-align: top;\n",
       "    }\n",
       "\n",
       "    .dataframe thead th {\n",
       "        text-align: right;\n",
       "    }\n",
       "</style>\n",
       "<table border=\"1\" class=\"dataframe\">\n",
       "  <thead>\n",
       "    <tr style=\"text-align: right;\">\n",
       "      <th></th>\n",
       "      <th>Price Negotiable</th>\n",
       "      <th>Price Negotiable.1</th>\n",
       "    </tr>\n",
       "  </thead>\n",
       "  <tbody>\n",
       "  </tbody>\n",
       "</table>\n",
       "</div>"
      ],
      "text/plain": [
       "Empty DataFrame\n",
       "Columns: [Price Negotiable, Price Negotiable.1]\n",
       "Index: []"
      ]
     },
     "execution_count": 25,
     "metadata": {},
     "output_type": "execute_result"
    }
   ],
   "source": [
    "flat_data[[\"Price Negotiable\",\"Price Negotiable.1\"]][~(flat_data[\"Price Negotiable\"].isnull())&~(flat_data[\"Price Negotiable.1\"].isnull())]"
   ]
  },
  {
   "cell_type": "code",
   "execution_count": 26,
   "metadata": {},
   "outputs": [
    {
     "data": {
      "text/plain": [
       "array(['No', '', 'Yes'], dtype=object)"
      ]
     },
     "execution_count": 26,
     "metadata": {},
     "output_type": "execute_result"
    }
   ],
   "source": [
    "(flat_data[\"Price Negotiable\"].fillna(\"\")+flat_data[\"Price Negotiable.1\"].fillna(\"\")).unique()"
   ]
  },
  {
   "cell_type": "code",
   "execution_count": 27,
   "metadata": {},
   "outputs": [
    {
     "data": {
      "text/plain": [
       "array([nan, 'No', 'Yes'], dtype=object)"
      ]
     },
     "execution_count": 27,
     "metadata": {},
     "output_type": "execute_result"
    }
   ],
   "source": [
    "flat_data[\"Price Negotiable\"].unique()"
   ]
  },
  {
   "cell_type": "markdown",
   "metadata": {},
   "source": [
    "### Age of Property & Age of Property.1"
   ]
  },
  {
   "cell_type": "code",
   "execution_count": 28,
   "metadata": {},
   "outputs": [
    {
     "data": {
      "text/plain": [
       "array([nan, '5', '9', '3', '12', '6', '1', '8', '10', '2', '7', '4', '17',\n",
       "       '15', '19', '14', '11', '21', '16', '13', '18', '22', '23', '25',\n",
       "       '125'], dtype=object)"
      ]
     },
     "execution_count": 28,
     "metadata": {},
     "output_type": "execute_result"
    }
   ],
   "source": [
    "(flat_data[\"Age of Property\"].fillna(\"\")+flat_data[\"Age of Property.1\"].fillna(\"\")).str.extract(r\"([0-9]+ y)\").loc[:,0].str.replace(\" y\",\"\").unique()"
   ]
  },
  {
   "cell_type": "code",
   "execution_count": 29,
   "metadata": {},
   "outputs": [
    {
     "data": {
      "text/plain": [
       "array([nan, '1', '10', '9', '3', '2', '6', '7', '5', '11', '8'],\n",
       "      dtype=object)"
      ]
     },
     "execution_count": 29,
     "metadata": {},
     "output_type": "execute_result"
    }
   ],
   "source": [
    "flat_data[\"Age of Property\"].str.extract(r\"([0-9]+ y)\").loc[:,0].str.replace(\" y\",\"\").unique()"
   ]
  },
  {
   "cell_type": "code",
   "execution_count": 30,
   "metadata": {},
   "outputs": [
    {
     "data": {
      "text/html": [
       "<div>\n",
       "<style scoped>\n",
       "    .dataframe tbody tr th:only-of-type {\n",
       "        vertical-align: middle;\n",
       "    }\n",
       "\n",
       "    .dataframe tbody tr th {\n",
       "        vertical-align: top;\n",
       "    }\n",
       "\n",
       "    .dataframe thead th {\n",
       "        text-align: right;\n",
       "    }\n",
       "</style>\n",
       "<table border=\"1\" class=\"dataframe\">\n",
       "  <thead>\n",
       "    <tr style=\"text-align: right;\">\n",
       "      <th></th>\n",
       "      <th>Age of Property.1</th>\n",
       "      <th>Age of Property</th>\n",
       "    </tr>\n",
       "  </thead>\n",
       "  <tbody>\n",
       "  </tbody>\n",
       "</table>\n",
       "</div>"
      ],
      "text/plain": [
       "Empty DataFrame\n",
       "Columns: [Age of Property.1, Age of Property]\n",
       "Index: []"
      ]
     },
     "execution_count": 30,
     "metadata": {},
     "output_type": "execute_result"
    }
   ],
   "source": [
    "flat_data[[\"Age of Property.1\",\"Age of Property\"]][~(flat_data[\"Age of Property\"].isnull())&~(flat_data[\"Age of Property.1\"].isnull())]"
   ]
  },
  {
   "cell_type": "code",
   "execution_count": 31,
   "metadata": {},
   "outputs": [
    {
     "data": {
      "text/plain": [
       "array([nan, '0 - 1 year', '9 - 10 years', '8 - 9 years', '2 - 3 years',\n",
       "       '2 years', '5 - 6 years', '6 - 7 years', '1 year', '1 - 2 years',\n",
       "       '4 - 5 years', '10 - 11 years', '9 years', '7 - 8 years',\n",
       "       '6 years', '10 years'], dtype=object)"
      ]
     },
     "execution_count": 31,
     "metadata": {},
     "output_type": "execute_result"
    }
   ],
   "source": [
    "flat_data[\"Age of Property\"].unique()"
   ]
  },
  {
   "cell_type": "code",
   "execution_count": 32,
   "metadata": {},
   "outputs": [
    {
     "data": {
      "text/plain": [
       "array([nan, '0', '9', '8', '2', '5', '6', '1', '4', '10', '7'],\n",
       "      dtype=object)"
      ]
     },
     "execution_count": 32,
     "metadata": {},
     "output_type": "execute_result"
    }
   ],
   "source": [
    "flat_data[\"Age of Property\"].str.extract(r\"(\\d+)\").iloc[:,0].unique()"
   ]
  },
  {
   "cell_type": "markdown",
   "metadata": {},
   "source": [
    "### Floor"
   ]
  },
  {
   "cell_type": "code",
   "execution_count": 33,
   "metadata": {},
   "outputs": [
    {
     "data": {
      "text/plain": [
       "array([nan, '25', '22', '12', '16', '15', '17', '4', '6', '28', '1', '20',\n",
       "       '30', '14', '5', '18', '10', '8', '2', '24', '0', '11', '23', '3',\n",
       "       '21', '7', '9', '13', '31', '45', '27'], dtype=object)"
      ]
     },
     "execution_count": 33,
     "metadata": {},
     "output_type": "execute_result"
    }
   ],
   "source": [
    "flat_data[\"Floor\"].str.replace(\"Gr\",\"0\").str.extract(r\"(\\d+)\").iloc[:,0].unique()"
   ]
  },
  {
   "cell_type": "code",
   "execution_count": 34,
   "metadata": {},
   "outputs": [
    {
     "data": {
      "text/plain": [
       "array([nan, '25th of 32', '22nd of 32', '12th of 31', '16th of 31',\n",
       "       '15th of 26', '25th of 26', '17th of 26', '4th of 26', '6th of 26',\n",
       "       '12th of 26', '28th of 34', '6th of 34', '1st of 6', '25th of 47',\n",
       "       '20th of 28', '1st of 17', '30th of 34', '20th of 47',\n",
       "       '14th of 29', '12th of 28', '22nd of 29', '5th of 10',\n",
       "       '18th of 23', '14th of 19', '10th of 24', '10th of 13',\n",
       "       '18th of 32', '17th of 25', '8th of 18', '14th of 17',\n",
       "       '14th of 22', '20th of 22', '10th of 40', '20th of 21',\n",
       "       '14th of 28', '14th of 24', '12th of 27', '2nd of 4', '24th of 25',\n",
       "       '10th of 47', '15th of 22', '15th of 29', 'Gr of 28', '11th of 24',\n",
       "       '18th of 27', '18th of 29', '12th of 12', '8th of 20',\n",
       "       '11th of 18', '16th of 29', '23rd of 34', '11th of 28',\n",
       "       '3rd of 28', '20th of 32', '21st of 28', '6th of 12', '10th of 35',\n",
       "       '16th of 19', '10th of 10', '14th of 27', '16th of 20',\n",
       "       '11th of 25', '10th of 23', '2nd of 6', 'Gr', '2nd of 18',\n",
       "       '5th of 20', '8th of 8', '17th of 18', '1st of 12', '6th of 9',\n",
       "       '7th of 20', '9th of 21', '2nd of 5', '8th of 15', '6th of 11',\n",
       "       '8th of 13', '6th of 13', '7th of 13', '7th of 17', '6th of 15',\n",
       "       '7th of 23', '7th of 18', '8th of 19', '11th of 19', '6th of 18',\n",
       "       '1st of 18', '1st of 4', '17th of 24', '5th of 18', '10th of 25',\n",
       "       '15th of 15', '9th of 19', '6th of 14', '6th of 6', '1st of 5',\n",
       "       '3rd of 19', '11th of 29', '8th of 32', '14th of 14', '18th of 21',\n",
       "       '10th of 22', '7th of 14', '8th of 21', '17th of 22', '17th of 34',\n",
       "       '13th of 26', '4th of 17', '9th of 39', '8th of 17', '4th of 6',\n",
       "       '3rd of 3', '3rd of 5', '22nd of 28', '22nd of 24', '16th of 22',\n",
       "       '3rd of 6', 'Gr of 4', '4th of 20', '16th of 24', '14th of 20',\n",
       "       '5th of 25', '12th of 15', '18th of 28', '8th of 28', '5th of 7',\n",
       "       '17th of 17', '15th of 28', '3rd of 7', '5th of 24', '1st of 15',\n",
       "       '3rd of 17', '11th of 23', '8th of 39', '5th of 39', '10th of 39',\n",
       "       '14th of 40', '7th of 24', '12th of 22', '17th of 28',\n",
       "       '12th of 18', '4th of 4', '7th of 19', '18th of 22', '10th of 19',\n",
       "       '4th of 8', '3rd of 4', '1st of 3', '2nd of 22', '14th of 25',\n",
       "       '31st of 31', '12th of 25', '8th of 14', '10th of 27', 'Gr of 3',\n",
       "       '15th of 25', '21st of 21', '20th of 20', '25th of 28',\n",
       "       '21st of 34', '24th of 34', '2nd of 34', '15th of 34', '2nd of 32',\n",
       "       '45th of 80', '9th of 14', '3rd of 20', '6th of 20', '10th of 28',\n",
       "       '20th of 40', '12th of 30', '10th of 30', '15th of 30',\n",
       "       '15th of 27', '16th of 27', '20th of 27', '30th of 32',\n",
       "       '10th of 34', '10th of 38', '24th of 40', '16th of 32',\n",
       "       '20th of 31', '10th of 32', '16th of 28', '2nd of 21', '2nd of 20',\n",
       "       '10th of 20', '12th of 20', '8th of 22', '4th of 22', '12th of 21',\n",
       "       '1st of 20', '15th of 20', '13th of 22', '6th of 22', '5th of 22',\n",
       "       '4th of 21', '2nd of 23', '4th of 12', '11th of 21', '7th of 15',\n",
       "       '7th of 16', '18th of 36', '17th of 27', '18th of 35',\n",
       "       '10th of 17', '2nd of 19', '5th of 6', '27th of 29', 'Gr of 18',\n",
       "       '13th of 18', '11th of 22', '1st of 50', 'Gr of 20', '6th of 25',\n",
       "       '12th of 17', '16th of 36', '13th of 14', '6th of 16', '9th of 23',\n",
       "       '13th of 24', '4th of 11', '5th of 14', '9th of 13', '8th of 16',\n",
       "       '13th of 23', '5th of 11', '9th of 15', '11th of 15', '5th of 13',\n",
       "       '4th of 10', '6th of 10', '3rd of 8', '7th of 12', '3rd of 15',\n",
       "       '4th of 15', '5th of 8', '11th of 20', '9th of 18', '11th of 16',\n",
       "       '5th of 15', '6th of 17', '9th of 22', '4th of 13', '4th of 9',\n",
       "       '5th of 16', '5th of 17', '8th of 11', '7th of 9', '6th of 21',\n",
       "       '7th of 11'], dtype=object)"
      ]
     },
     "execution_count": 34,
     "metadata": {},
     "output_type": "execute_result"
    }
   ],
   "source": [
    "flat_data[\"Floor\"].unique()"
   ]
  },
  {
   "cell_type": "markdown",
   "metadata": {},
   "source": [
    "### Additional Rooms & Additional Rooms.1"
   ]
  },
  {
   "cell_type": "code",
   "execution_count": 35,
   "metadata": {},
   "outputs": [
    {
     "data": {
      "text/plain": [
       "array([nan, '1 rooms', '3 rooms', '2 rooms'], dtype=object)"
      ]
     },
     "execution_count": 35,
     "metadata": {},
     "output_type": "execute_result"
    }
   ],
   "source": [
    "flat_data[\"Additional Rooms\"].str.replace(r\"\\([a-z\\s,]+\\)\",\"\",regex=True).unique()"
   ]
  },
  {
   "cell_type": "code",
   "execution_count": 40,
   "metadata": {},
   "outputs": [
    {
     "data": {
      "text/plain": [
       "array([nan, '1 rooms', '3 rooms', '2 rooms'], dtype=object)"
      ]
     },
     "execution_count": 40,
     "metadata": {},
     "output_type": "execute_result"
    }
   ],
   "source": [
    "flat_data[\"Additional Rooms.1\"].str.replace(r\"\\([a-z\\s,]+\\)\",\"\",regex=True).unique()"
   ]
  },
  {
   "cell_type": "code",
   "execution_count": 49,
   "metadata": {},
   "outputs": [
    {
     "data": {
      "text/html": [
       "<div>\n",
       "<style scoped>\n",
       "    .dataframe tbody tr th:only-of-type {\n",
       "        vertical-align: middle;\n",
       "    }\n",
       "\n",
       "    .dataframe tbody tr th {\n",
       "        vertical-align: top;\n",
       "    }\n",
       "\n",
       "    .dataframe thead th {\n",
       "        text-align: right;\n",
       "    }\n",
       "</style>\n",
       "<table border=\"1\" class=\"dataframe\">\n",
       "  <thead>\n",
       "    <tr style=\"text-align: right;\">\n",
       "      <th></th>\n",
       "      <th>Additional Rooms.1</th>\n",
       "      <th>Additional Rooms</th>\n",
       "    </tr>\n",
       "  </thead>\n",
       "  <tbody>\n",
       "  </tbody>\n",
       "</table>\n",
       "</div>"
      ],
      "text/plain": [
       "Empty DataFrame\n",
       "Columns: [Additional Rooms.1, Additional Rooms]\n",
       "Index: []"
      ]
     },
     "execution_count": 49,
     "metadata": {},
     "output_type": "execute_result"
    }
   ],
   "source": [
    "flat_data[[\"Additional Rooms.1\",\"Additional Rooms\"]][~(flat_data[\"Additional Rooms.1\"].isnull())&(flat_data[\"Additional Rooms.1\"].isnull())]"
   ]
  },
  {
   "cell_type": "markdown",
   "metadata": {},
   "source": [
    "### Balconies & Balconies.1"
   ]
  },
  {
   "cell_type": "code",
   "execution_count": 36,
   "metadata": {},
   "outputs": [
    {
     "data": {
      "text/plain": [
       "array([nan,  1.,  3.,  4.,  2.,  5.])"
      ]
     },
     "execution_count": 36,
     "metadata": {},
     "output_type": "execute_result"
    }
   ],
   "source": [
    "flat_data[\"Balconies\"].unique()"
   ]
  },
  {
   "cell_type": "code",
   "execution_count": 62,
   "metadata": {},
   "outputs": [
    {
     "data": {
      "text/plain": [
       "array([nan,  1.,  3.,  4.,  2.,  5.])"
      ]
     },
     "execution_count": 62,
     "metadata": {},
     "output_type": "execute_result"
    }
   ],
   "source": [
    "flat_data[\"Balconies\"].unique()"
   ]
  },
  {
   "cell_type": "code",
   "execution_count": 63,
   "metadata": {},
   "outputs": [
    {
     "data": {
      "text/html": [
       "<div>\n",
       "<style scoped>\n",
       "    .dataframe tbody tr th:only-of-type {\n",
       "        vertical-align: middle;\n",
       "    }\n",
       "\n",
       "    .dataframe tbody tr th {\n",
       "        vertical-align: top;\n",
       "    }\n",
       "\n",
       "    .dataframe thead th {\n",
       "        text-align: right;\n",
       "    }\n",
       "</style>\n",
       "<table border=\"1\" class=\"dataframe\">\n",
       "  <thead>\n",
       "    <tr style=\"text-align: right;\">\n",
       "      <th></th>\n",
       "      <th>Balconies.1</th>\n",
       "      <th>Balconies</th>\n",
       "    </tr>\n",
       "  </thead>\n",
       "  <tbody>\n",
       "  </tbody>\n",
       "</table>\n",
       "</div>"
      ],
      "text/plain": [
       "Empty DataFrame\n",
       "Columns: [Balconies.1, Balconies]\n",
       "Index: []"
      ]
     },
     "execution_count": 63,
     "metadata": {},
     "output_type": "execute_result"
    }
   ],
   "source": [
    "flat_data[[\"Balconies.1\",\"Balconies\"]][~(flat_data[\"Balconies.1\"].isnull())&(flat_data[\"Balconies.1\"].isnull())]"
   ]
  },
  {
   "cell_type": "markdown",
   "metadata": {},
   "source": [
    "### Security Deposit"
   ]
  },
  {
   "cell_type": "code",
   "execution_count": 37,
   "metadata": {},
   "outputs": [
    {
     "data": {
      "text/plain": [
       "array(['No Deposit', nan], dtype=object)"
      ]
     },
     "execution_count": 37,
     "metadata": {},
     "output_type": "execute_result"
    }
   ],
   "source": [
    "flat_data[\"Security Deposit\"].unique()"
   ]
  },
  {
   "cell_type": "markdown",
   "metadata": {},
   "source": [
    "### Facing"
   ]
  },
  {
   "cell_type": "code",
   "execution_count": 39,
   "metadata": {},
   "outputs": [
    {
     "data": {
      "text/plain": [
       "array(['North', 'East', nan, 'SouthEast', 'NorthEast', 'West',\n",
       "       'NorthWest', 'South', 'SouthWest'], dtype=object)"
      ]
     },
     "execution_count": 39,
     "metadata": {},
     "output_type": "execute_result"
    }
   ],
   "source": [
    "flat_data[\"Facing\"].unique()"
   ]
  },
  {
   "cell_type": "markdown",
   "metadata": {},
   "source": [
    "### Ownership Type"
   ]
  },
  {
   "cell_type": "code",
   "execution_count": 85,
   "metadata": {},
   "outputs": [
    {
     "data": {
      "text/plain": [
       "array([nan, 'Freehold', 'Leasehol', 'Co-Operative Society',\n",
       "       'Power of Attorney'], dtype=object)"
      ]
     },
     "execution_count": 85,
     "metadata": {},
     "output_type": "execute_result"
    }
   ],
   "source": [
    "flat_data[\"Ownership Type\"].unique()"
   ]
  },
  {
   "cell_type": "markdown",
   "metadata": {},
   "source": [
    "### Booking Amount"
   ]
  },
  {
   "cell_type": "code",
   "execution_count": 88,
   "metadata": {},
   "outputs": [
    {
     "data": {
      "text/plain": [
       "array([      nan,    51000.,  9000000.,   140000.,   200000.,   300000.,\n",
       "         800000.,   100000.,   600000.,  2000000.,   500000.,    50000.,\n",
       "        1000000.,  3000000.,   190000.,   170000.,   650000.,   250000.,\n",
       "        1100000.,   120000.,    89000.,    73500.,    93000.,    94000.,\n",
       "          91000.,    86000.,    97000.,    68000.,    96000.,    82000.,\n",
       "          71000.,    78000.,    61000.,    65000.,   156000.,    84000.,\n",
       "          67000.,    98000.,    95000.,   230000.,   165000.,    85000.,\n",
       "         360000.,    81000.,    86380.,    76000.,    20000.,   123800.,\n",
       "        1700000.,  4080000.,  5380000.,  5299200.,  6000000.,   530000.,\n",
       "         550000.,   900000.,  1200000.,  1600000.,  4460000.,  8860000.,\n",
       "         762650.,   740000.,   404700., 10000000.,  5000000.,  6500000.,\n",
       "        1500000.,    70000.,  4500000.,   130000.,  6400000.,  1040000.,\n",
       "        1030400.,   700000.,    21000.,  2500000.,  1080000.,   960000.,\n",
       "        4070000.,  6250000.,  3465000.,  2700000.,  3430000.,  3020000.,\n",
       "        3525000.,  1620000.,  3200000.,  2250000.,   320000.,  1800000.,\n",
       "        1250000.,   520000.,   400000.,    10000.,   150000.,   430000.,\n",
       "         500100.,    56000.,    83000.,    92000.,   123000.,    63000.,\n",
       "          75000.,   210000.,    87000.,    90000.,    58000.,   138000.,\n",
       "          98800.,    74000.,   110000.,    72000.,    64000.,    73000.,\n",
       "          79000.,    59000.,    98600.,   238000.,   420000.,    54000.,\n",
       "         560000.,   950000.,    95560.,    98500.,    92100.,   538000.,\n",
       "         145000.,   153000.,   123500.,    69000.,   168000.,   940000.,\n",
       "          83400.,    88000.,    92300.,    82630.,    53000.,    96500.,\n",
       "          96840.,    95500.,    52000.,   260000.,   350000.,    25000.,\n",
       "         143000.,   340000.,    46000.,   240000.,    99000.,   112000.,\n",
       "         160000.,  1300000.,   256000.,   138888.,   152000.,    65800.,\n",
       "         280000.,   125000.,   985000.,   135000.,   432000.,    86720.,\n",
       "          48000.,    98350.])"
      ]
     },
     "execution_count": 88,
     "metadata": {},
     "output_type": "execute_result"
    }
   ],
   "source": [
    "pd.to_numeric(flat_data[\"Booking Amount\"].str.replace(\",\",\"\")).unique()"
   ]
  },
  {
   "cell_type": "markdown",
   "metadata": {},
   "source": [
    "### Overlooking"
   ]
  },
  {
   "cell_type": "code",
   "execution_count": 92,
   "metadata": {},
   "outputs": [
    {
     "data": {
      "text/plain": [
       "array([nan, 'Corner, Garden View, Pool View, Road View',\n",
       "       'Garden View, Pool View, Road View', 'Road View',\n",
       "       'Pool View, Garden View', 'Road View, Pool View, Garden View',\n",
       "       'Garden View', 'Road View, Corner',\n",
       "       'Pool View, Corner, Garden View', 'Road View, Pool View, Corner',\n",
       "       'Road View, Pool View', 'Road View, Garden View',\n",
       "       'Corner, Garden View, Road View', 'Corner, Garden View',\n",
       "       'Corner, Garden View, Pool View', 'Corner', 'Corner, Road View',\n",
       "       'Garden View, Pool View'], dtype=object)"
      ]
     },
     "execution_count": 92,
     "metadata": {},
     "output_type": "execute_result"
    }
   ],
   "source": [
    "flat_data[\"Overlooking\"].unique()"
   ]
  },
  {
   "cell_type": "markdown",
   "metadata": {},
   "source": [
    "### Amenities(1)"
   ]
  },
  {
   "cell_type": "code",
   "execution_count": 166,
   "metadata": {},
   "outputs": [],
   "source": [
    "temp=flat_data[\"1\"].replace(r\"[]\",np.nan).str.lower().str.replace(\", \",\",\").str.replace(r\"lift(s)\",\"lift\").str.replace(r\"\\[|\\]\",\"\",regex=True).str.split(\",\",expand=True)"
   ]
  },
  {
   "cell_type": "code",
   "execution_count": 167,
   "metadata": {},
   "outputs": [
    {
     "data": {
      "text/plain": [
       "(9132, 24)"
      ]
     },
     "execution_count": 167,
     "metadata": {},
     "output_type": "execute_result"
    }
   ],
   "source": [
    "temp.shape"
   ]
  },
  {
   "cell_type": "code",
   "execution_count": 172,
   "metadata": {},
   "outputs": [
    {
     "data": {
      "text/plain": [
       "['sports facility',\n",
       " 'shopping mall',\n",
       " 'maintenance staff',\n",
       " 'jogging track',\n",
       " 'atm',\n",
       " 'gymnasium',\n",
       " 'indoor games',\n",
       " 'rain water harvesting',\n",
       " 'swimming pool',\n",
       " 'intercom',\n",
       " 'cafeteria',\n",
       " 'full power backup',\n",
       " 'lift',\n",
       " 'childrens play area',\n",
       " 'car parking',\n",
       " 'landscaped gardens',\n",
       " '24 x 7 security',\n",
       " 'club house',\n",
       " 'staff quarter',\n",
       " 'hospital',\n",
       " 'multipurpose room',\n",
       " 'vaastu compliant',\n",
       " 'golf course',\n",
       " 'school']"
      ]
     },
     "execution_count": 172,
     "metadata": {},
     "output_type": "execute_result"
    }
   ],
   "source": [
    "l"
   ]
  },
  {
   "cell_type": "code",
   "execution_count": 168,
   "metadata": {},
   "outputs": [],
   "source": [
    "l=[]\n",
    "\n",
    "\n",
    "for col in range(24):\n",
    "    for row in range(9132):\n",
    "        x=temp.iloc[row,col]\n",
    "        if x not in l:\n",
    "            l.append(x)"
   ]
  },
  {
   "cell_type": "code",
   "execution_count": 173,
   "metadata": {},
   "outputs": [],
   "source": [
    "temp1=flat_data[\"1\"].replace(r\"[]\",np.nan).str.lower()"
   ]
  },
  {
   "cell_type": "code",
   "execution_count": 128,
   "metadata": {},
   "outputs": [],
   "source": [
    "pd.set_option('display.max_columns', None)\n",
    "pd.set_option('display.max_rows', None)"
   ]
  },
  {
   "cell_type": "markdown",
   "metadata": {},
   "source": []
  },
  {
   "cell_type": "code",
   "execution_count": 175,
   "metadata": {},
   "outputs": [
    {
     "data": {
      "text/plain": [
       "'[Maintenance Staff, ATM, Intercom, Lift(s), Golf Course, Full Power Backup, Cafeteria, Childrens play area, Rain Water Harvesting, Club House, Staff Quarter, Swimming Pool, Multipurpose Room, Indoor Games, Car Parking, Hospital, School, Shopping Mall, 24 X 7 Security, Jogging Track, Sports Facility, Gymnasium, Vaastu Compliant]'"
      ]
     },
     "execution_count": 175,
     "metadata": {},
     "output_type": "execute_result"
    }
   ],
   "source": [
    "flat_data.loc[3117,\"1\"]"
   ]
  },
  {
   "cell_type": "code",
   "execution_count": 177,
   "metadata": {},
   "outputs": [
    {
     "data": {
      "text/plain": [
       "(9132, 24)"
      ]
     },
     "execution_count": 177,
     "metadata": {},
     "output_type": "execute_result"
    }
   ],
   "source": [
    "pd.DataFrame({e:temp1.str.contains(f\"{e}\") for e in l}).shape"
   ]
  },
  {
   "cell_type": "code",
   "execution_count": 176,
   "metadata": {},
   "outputs": [
    {
     "data": {
      "text/html": [
       "<div>\n",
       "<style scoped>\n",
       "    .dataframe tbody tr th:only-of-type {\n",
       "        vertical-align: middle;\n",
       "    }\n",
       "\n",
       "    .dataframe tbody tr th {\n",
       "        vertical-align: top;\n",
       "    }\n",
       "\n",
       "    .dataframe thead th {\n",
       "        text-align: right;\n",
       "    }\n",
       "</style>\n",
       "<table border=\"1\" class=\"dataframe\">\n",
       "  <thead>\n",
       "    <tr style=\"text-align: right;\">\n",
       "      <th></th>\n",
       "      <th>1</th>\n",
       "      <th>sports facility</th>\n",
       "      <th>shopping mall</th>\n",
       "      <th>maintenance staff</th>\n",
       "      <th>jogging track</th>\n",
       "      <th>atm</th>\n",
       "      <th>gymnasium</th>\n",
       "      <th>indoor games</th>\n",
       "      <th>rain water harvesting</th>\n",
       "      <th>swimming pool</th>\n",
       "      <th>intercom</th>\n",
       "      <th>cafeteria</th>\n",
       "      <th>full power backup</th>\n",
       "      <th>lift</th>\n",
       "      <th>childrens play area</th>\n",
       "      <th>car parking</th>\n",
       "      <th>landscaped gardens</th>\n",
       "      <th>24 x 7 security</th>\n",
       "      <th>club house</th>\n",
       "      <th>staff quarter</th>\n",
       "      <th>hospital</th>\n",
       "      <th>multipurpose room</th>\n",
       "      <th>vaastu compliant</th>\n",
       "      <th>golf course</th>\n",
       "      <th>school</th>\n",
       "    </tr>\n",
       "  </thead>\n",
       "  <tbody>\n",
       "    <tr>\n",
       "      <th>8398</th>\n",
       "      <td>[indoor games, atm, jogging track, lift(s), in...</td>\n",
       "      <td>True</td>\n",
       "      <td>True</td>\n",
       "      <td>False</td>\n",
       "      <td>True</td>\n",
       "      <td>True</td>\n",
       "      <td>True</td>\n",
       "      <td>True</td>\n",
       "      <td>True</td>\n",
       "      <td>True</td>\n",
       "      <td>True</td>\n",
       "      <td>False</td>\n",
       "      <td>True</td>\n",
       "      <td>True</td>\n",
       "      <td>True</td>\n",
       "      <td>True</td>\n",
       "      <td>True</td>\n",
       "      <td>True</td>\n",
       "      <td>True</td>\n",
       "      <td>True</td>\n",
       "      <td>True</td>\n",
       "      <td>True</td>\n",
       "      <td>True</td>\n",
       "      <td>False</td>\n",
       "      <td>True</td>\n",
       "    </tr>\n",
       "    <tr>\n",
       "      <th>6810</th>\n",
       "      <td>[gymnasium, lift(s), swimming pool, full power...</td>\n",
       "      <td>False</td>\n",
       "      <td>False</td>\n",
       "      <td>False</td>\n",
       "      <td>True</td>\n",
       "      <td>False</td>\n",
       "      <td>True</td>\n",
       "      <td>True</td>\n",
       "      <td>True</td>\n",
       "      <td>True</td>\n",
       "      <td>False</td>\n",
       "      <td>False</td>\n",
       "      <td>True</td>\n",
       "      <td>True</td>\n",
       "      <td>True</td>\n",
       "      <td>True</td>\n",
       "      <td>False</td>\n",
       "      <td>True</td>\n",
       "      <td>True</td>\n",
       "      <td>False</td>\n",
       "      <td>False</td>\n",
       "      <td>False</td>\n",
       "      <td>False</td>\n",
       "      <td>False</td>\n",
       "      <td>False</td>\n",
       "    </tr>\n",
       "    <tr>\n",
       "      <th>8472</th>\n",
       "      <td>[gymnasium, lift(s), jogging track, indoor gam...</td>\n",
       "      <td>False</td>\n",
       "      <td>False</td>\n",
       "      <td>False</td>\n",
       "      <td>True</td>\n",
       "      <td>False</td>\n",
       "      <td>True</td>\n",
       "      <td>True</td>\n",
       "      <td>False</td>\n",
       "      <td>True</td>\n",
       "      <td>False</td>\n",
       "      <td>False</td>\n",
       "      <td>True</td>\n",
       "      <td>True</td>\n",
       "      <td>True</td>\n",
       "      <td>True</td>\n",
       "      <td>False</td>\n",
       "      <td>True</td>\n",
       "      <td>True</td>\n",
       "      <td>False</td>\n",
       "      <td>False</td>\n",
       "      <td>False</td>\n",
       "      <td>False</td>\n",
       "      <td>False</td>\n",
       "      <td>False</td>\n",
       "    </tr>\n",
       "    <tr>\n",
       "      <th>3740</th>\n",
       "      <td>[jogging track, atm, maintenance staff, lift(s...</td>\n",
       "      <td>True</td>\n",
       "      <td>True</td>\n",
       "      <td>True</td>\n",
       "      <td>True</td>\n",
       "      <td>True</td>\n",
       "      <td>True</td>\n",
       "      <td>True</td>\n",
       "      <td>True</td>\n",
       "      <td>True</td>\n",
       "      <td>True</td>\n",
       "      <td>True</td>\n",
       "      <td>True</td>\n",
       "      <td>True</td>\n",
       "      <td>True</td>\n",
       "      <td>True</td>\n",
       "      <td>False</td>\n",
       "      <td>True</td>\n",
       "      <td>True</td>\n",
       "      <td>True</td>\n",
       "      <td>True</td>\n",
       "      <td>True</td>\n",
       "      <td>True</td>\n",
       "      <td>False</td>\n",
       "      <td>True</td>\n",
       "    </tr>\n",
       "    <tr>\n",
       "      <th>341</th>\n",
       "      <td>NaN</td>\n",
       "      <td>NaN</td>\n",
       "      <td>NaN</td>\n",
       "      <td>NaN</td>\n",
       "      <td>NaN</td>\n",
       "      <td>NaN</td>\n",
       "      <td>NaN</td>\n",
       "      <td>NaN</td>\n",
       "      <td>NaN</td>\n",
       "      <td>NaN</td>\n",
       "      <td>NaN</td>\n",
       "      <td>NaN</td>\n",
       "      <td>NaN</td>\n",
       "      <td>NaN</td>\n",
       "      <td>NaN</td>\n",
       "      <td>NaN</td>\n",
       "      <td>NaN</td>\n",
       "      <td>NaN</td>\n",
       "      <td>NaN</td>\n",
       "      <td>NaN</td>\n",
       "      <td>NaN</td>\n",
       "      <td>NaN</td>\n",
       "      <td>NaN</td>\n",
       "      <td>NaN</td>\n",
       "      <td>NaN</td>\n",
       "    </tr>\n",
       "  </tbody>\n",
       "</table>\n",
       "</div>"
      ],
      "text/plain": [
       "                                                      1 sports facility  \\\n",
       "8398  [indoor games, atm, jogging track, lift(s), in...            True   \n",
       "6810  [gymnasium, lift(s), swimming pool, full power...           False   \n",
       "8472  [gymnasium, lift(s), jogging track, indoor gam...           False   \n",
       "3740  [jogging track, atm, maintenance staff, lift(s...            True   \n",
       "341                                                 NaN             NaN   \n",
       "\n",
       "     shopping mall maintenance staff jogging track    atm gymnasium  \\\n",
       "8398          True             False          True   True      True   \n",
       "6810         False             False          True  False      True   \n",
       "8472         False             False          True  False      True   \n",
       "3740          True              True          True   True      True   \n",
       "341            NaN               NaN           NaN    NaN       NaN   \n",
       "\n",
       "     indoor games rain water harvesting swimming pool intercom cafeteria  \\\n",
       "8398         True                  True          True     True     False   \n",
       "6810         True                  True          True    False     False   \n",
       "8472         True                 False          True    False     False   \n",
       "3740         True                  True          True     True      True   \n",
       "341           NaN                   NaN           NaN      NaN       NaN   \n",
       "\n",
       "     full power backup  lift childrens play area car parking  \\\n",
       "8398              True  True                True        True   \n",
       "6810              True  True                True        True   \n",
       "8472              True  True                True        True   \n",
       "3740              True  True                True        True   \n",
       "341                NaN   NaN                 NaN         NaN   \n",
       "\n",
       "     landscaped gardens 24 x 7 security club house staff quarter hospital  \\\n",
       "8398               True            True       True          True     True   \n",
       "6810              False            True       True         False    False   \n",
       "8472              False            True       True         False    False   \n",
       "3740              False            True       True          True     True   \n",
       "341                 NaN             NaN        NaN           NaN      NaN   \n",
       "\n",
       "     multipurpose room vaastu compliant golf course school  \n",
       "8398              True             True       False   True  \n",
       "6810             False            False       False  False  \n",
       "8472             False            False       False  False  \n",
       "3740              True             True       False   True  \n",
       "341                NaN              NaN         NaN    NaN  "
      ]
     },
     "execution_count": 176,
     "metadata": {},
     "output_type": "execute_result"
    }
   ],
   "source": [
    "l2=[]\n",
    "temp1.to_frame().assign(**{e:temp1.str.contains(f\"{e}\") for e in l}).sample(5)\n",
    "    "
   ]
  },
  {
   "cell_type": "markdown",
   "metadata": {},
   "source": [
    "### 2"
   ]
  },
  {
   "cell_type": "code",
   "execution_count": 184,
   "metadata": {},
   "outputs": [
    {
     "data": {
      "text/plain": [
       "array(['[Gas connection]', '[Gas connection, AC]', nan, '[AC]',\n",
       "       '[BED, Dining Table, Microwave, Sofa, Refrigerator, TV, AC]',\n",
       "       '[BED, Dining Table, Microwave, TV]', '[Dining Table, AC]',\n",
       "       '[Washing Machine, BED, AC, Gas connection, Dining Table, Microwave, Sofa, Refrigerator, TV]',\n",
       "       '[BED, Gas connection, Dining Table, AC]', '[BED, AC]',\n",
       "       '[Gas connection, Microwave, AC]', '[Dining Table, TV, AC]',\n",
       "       '[Dining Table, Refrigerator, AC]', '[TV, AC]',\n",
       "       '[Dining Table, Washing Machine, AC]', '[Gas connection, TV, AC]',\n",
       "       '[Gas connection, Microwave]', '[Dining Table]',\n",
       "       '[BED, Gas connection, Dining Table, Microwave, Sofa, Refrigerator, TV, AC]',\n",
       "       '[BED, Gas connection, Washing Machine]',\n",
       "       '[BED, Dining Table, Washing Machine, TV]',\n",
       "       '[Gas connection, Refrigerator, TV, AC]', '[Gas connection, Sofa]',\n",
       "       '[Gas connection, TV]', '[Gas connection, Washing Machine]',\n",
       "       '[Gas connection, Microwave, Refrigerator, TV, AC]',\n",
       "       '[Gas connection, Washing Machine, Sofa]',\n",
       "       '[Gas connection, Dining Table, Sofa, AC]',\n",
       "       '[BED, Dining Table, Sofa, TV, AC]',\n",
       "       '[Gas connection, Microwave, Refrigerator, AC]',\n",
       "       '[BED, Gas connection, Dining Table, Microwave, Sofa, Refrigerator, AC]',\n",
       "       '[BED, Gas connection, TV, AC]', '[Microwave]', '[BED]',\n",
       "       '[Washing Machine, BED, Gas connection, Dining Table, Microwave, Refrigerator, TV]',\n",
       "       '[BED, Gas connection, AC]', '[Gas connection, Refrigerator]',\n",
       "       '[Gas connection, Dining Table]',\n",
       "       '[Washing Machine, BED, AC, Dining Table, Microwave, Sofa, Refrigerator, TV]',\n",
       "       '[BED, Microwave, Sofa, Refrigerator, TV, AC]',\n",
       "       '[BED, Microwave, AC]', '[Gas connection, Dining Table, AC]',\n",
       "       '[BED, Gas connection, Dining Table, Sofa, Refrigerator, TV, AC]',\n",
       "       '[Washing Machine, BED, AC, Gas connection, Dining Table, Microwave, Refrigerator, TV]',\n",
       "       '[Washing Machine, AC, Gas connection, Dining Table, Microwave, Refrigerator]',\n",
       "       '[BED, Gas connection, TV]',\n",
       "       '[Washing Machine, AC, Gas connection, Microwave, Refrigerator]',\n",
       "       '[Gas connection, Dining Table, Microwave, Refrigerator, AC]',\n",
       "       '[Washing Machine, AC, Gas connection, Dining Table, Microwave, Sofa, Refrigerator, TV]',\n",
       "       '[BED, Gas connection, Refrigerator, TV, AC]',\n",
       "       '[Washing Machine, BED, Gas connection, Microwave, Sofa, Refrigerator]',\n",
       "       '[BED, Gas connection, Refrigerator]',\n",
       "       '[BED, Microwave, Refrigerator, AC]', '[BED, Gas connection]',\n",
       "       '[Gas connection, Microwave, Sofa]',\n",
       "       '[Gas connection, Microwave, TV]',\n",
       "       '[BED, Gas connection, Dining Table, Washing Machine, Sofa, Refrigerator, AC]',\n",
       "       '[Gas connection, Microwave, Sofa, TV, Washing Machine]',\n",
       "       '[BED, Gas connection, Dining Table, Sofa, Refrigerator]', '[TV]',\n",
       "       '[Washing Machine, BED, Dining Table, Microwave, Sofa, Refrigerator, TV]',\n",
       "       '[Gas connection, Refrigerator, TV]',\n",
       "       '[BED, Gas connection, Dining Table, Washing Machine, Sofa, Refrigerator, TV, AC]',\n",
       "       '[Gas connection, Dining Table, Sofa, Refrigerator, TV]',\n",
       "       '[BED, Gas connection, Sofa]',\n",
       "       '[BED, Gas connection, Washing Machine, AC]',\n",
       "       '[Gas connection, Washing Machine, TV, AC]',\n",
       "       '[Gas connection, Dining Table, Microwave, Refrigerator, TV, Washing Machine]',\n",
       "       '[Washing Machine, AC, Gas connection, Microwave, Refrigerator, TV]',\n",
       "       '[BED, Gas connection, Microwave, Refrigerator, TV, AC]',\n",
       "       '[Washing Machine, BED, AC, Gas connection, Microwave, Sofa, Refrigerator, TV]',\n",
       "       '[Gas connection, Dining Table, Washing Machine, Sofa]',\n",
       "       '[Gas connection, Microwave, Sofa, Washing Machine]',\n",
       "       '[BED, Gas connection, Washing Machine, Sofa, Refrigerator, TV, AC]',\n",
       "       '[Gas connection, Dining Table, TV]', '[Gas connection, Sofa, AC]',\n",
       "       '[Gas connection, Refrigerator, AC]',\n",
       "       '[Washing Machine, BED, AC, Gas connection, Dining Table, Microwave, Sofa, TV]',\n",
       "       '[Gas connection, Wifi, Wardrobe]',\n",
       "       '[Gas connection, Microwave, Wifi, Wardrobe]',\n",
       "       '[Gas connection, Wardrobe, AC]', '[Gas connection, Wardrobe]',\n",
       "       '[Wardrobe]', '[Gas connection, Wifi]', '[BED, Wardrobe]',\n",
       "       '[Gas connection, Microwave, Wifi, Wardrobe, Washing Machine]',\n",
       "       '[BED, Gas connection, Wardrobe]',\n",
       "       '[Washing Machine, BED, AC, Gas connection, Dining Table, Microwave, Wifi, Wardrobe, Sofa, Refrigerator, TV]',\n",
       "       '[BED, Dining Table, Sofa, Refrigerator, Wardrobe]',\n",
       "       '[Gas connection, Microwave, Wardrobe]',\n",
       "       '[BED, Dining Table, Microwave, Wifi, Sofa, Refrigerator, TV, Wardrobe, AC]',\n",
       "       '[Microwave, Wifi, Sofa, Refrigerator, AC]',\n",
       "       '[Gas connection, Wifi, Wardrobe, AC]',\n",
       "       '[BED, Gas connection, TV, Wardrobe, AC]',\n",
       "       '[Gas connection, Microwave, Wifi]',\n",
       "       '[Gas connection, Dining Table, Microwave, Wifi, Sofa, Refrigerator, Washing Machine]',\n",
       "       '[Gas connection, Dining Table, Microwave, Wifi, Sofa, Refrigerator]',\n",
       "       '[Gas connection, Dining Table, Wifi, Washing Machine, Sofa, Refrigerator]',\n",
       "       '[Gas connection, Dining Table, Sofa, Refrigerator]',\n",
       "       '[Dining Table, Sofa]', '[Sofa, Refrigerator]',\n",
       "       '[Dining Table, Sofa, Refrigerator]',\n",
       "       '[BED, Dining Table, Sofa, Refrigerator, Wardrobe, AC]',\n",
       "       '[Wardrobe, AC]', '[BED, Gas connection, Wifi, Wardrobe]',\n",
       "       '[Wifi]',\n",
       "       '[Washing Machine, BED, Gas connection, Dining Table, Microwave, Wifi, Wardrobe, Sofa, Refrigerator, TV]',\n",
       "       '[Wifi, Wardrobe, AC]',\n",
       "       '[Washing Machine, BED, AC, Gas connection, Microwave, Wardrobe, Sofa, Refrigerator, TV]',\n",
       "       '[BED, Gas connection, Dining Table, Washing Machine, Sofa, Refrigerator, Wardrobe, AC]',\n",
       "       '[]',\n",
       "       '[BED, Gas connection, Washing Machine, Sofa, Refrigerator, Wardrobe]',\n",
       "       '[Gas connection, Microwave, Wardrobe, AC]',\n",
       "       '[Gas connection, Microwave, Wifi, Refrigerator, Wardrobe, AC]',\n",
       "       '[Washing Machine, AC, Gas connection, Dining Table, Microwave, Wifi, Wardrobe, Sofa, Refrigerator, TV]',\n",
       "       '[Washing Machine, BED, AC, Gas connection, Dining Table, Microwave, Wifi, Wardrobe, Sofa, Refrigerator]',\n",
       "       '[Wifi, Wardrobe]',\n",
       "       '[Gas connection, Dining Table, Microwave, Wifi, Wardrobe, Sofa, Refrigerator, Washing Machine]',\n",
       "       '[Washing Machine, AC, Gas connection, Dining Table, Microwave, Wifi, Wardrobe, Sofa, Refrigerator]',\n",
       "       '[Washing Machine, AC, Gas connection, Microwave, Wifi, Wardrobe]',\n",
       "       '[Microwave, Wifi]',\n",
       "       '[BED, Gas connection, Wifi, Washing Machine, Wardrobe]',\n",
       "       '[BED, Gas connection, Dining Table, Sofa, Wardrobe]',\n",
       "       '[Gas connection, TV, Wardrobe]',\n",
       "       '[Microwave, Wardrobe, Washing Machine]',\n",
       "       '[Dining Table, Microwave, Wifi, Sofa, Refrigerator, Washing Machine]',\n",
       "       '[Gas connection, Dining Table, Washing Machine, Sofa, Refrigerator]',\n",
       "       '[Gas connection, Dining Table, Microwave, Sofa, Refrigerator]',\n",
       "       '[Gas connection, Dining Table, Wifi, Sofa, Refrigerator]',\n",
       "       '[Gas connection, Dining Table, Microwave, Sofa, Refrigerator, Washing Machine]',\n",
       "       '[Gas connection, Wifi, Washing Machine, Sofa, Refrigerator]',\n",
       "       '[Dining Table, Washing Machine, Sofa, Refrigerator]', '[Sofa]',\n",
       "       '[Dining Table, Microwave, Wifi, Sofa, Refrigerator]'],\n",
       "      dtype=object)"
      ]
     },
     "execution_count": 184,
     "metadata": {},
     "output_type": "execute_result"
    }
   ],
   "source": [
    "flat_data[\"2\"].unique()"
   ]
  },
  {
   "cell_type": "code",
   "execution_count": 187,
   "metadata": {},
   "outputs": [],
   "source": [
    "#flat_data[(flat_data[\"2\"]!=r\"[]\")&~(flat_data[\"2\"].isnull())][[\"Status.1\",\"2\"]]"
   ]
  },
  {
   "cell_type": "markdown",
   "metadata": {},
   "source": [
    "**Observations:**\n",
    "1. Name\n",
    "    - contain multiple informations within the single attribute\n",
    "\n",
    "2. Size\n",
    "    - values contain in sq.ft. unit\n",
    "    - the data type is inappropriate, it must be int\n",
    "\n",
    "3. Address\n",
    "    - There are total 724 unique values, can be reduce.\n",
    "\n",
    "4. Price\n",
    "    - values are contain in Cr./ L. unit need to be convert into number\n",
    "    - some values contain unwanted suffix `Negotiable`\n",
    "    - data type is inappropriate\n",
    "\n",
    "5. Rate\n",
    "    - values are contain in sq.ft. unit\n",
    "    - values contain unwanted suffix\n",
    "    - data type is inappropriate\n",
    "    \n",
    "6. carpet area\n",
    "    - values are contain in sq.ft. unit\n",
    "    - data type is inappropriate\n",
    "\n",
    "7. Status1 & Status\n",
    "    - `Property Status` name suggested for status attribute and `Furnishing Status` name suggested for status.1\n",
    "\n",
    "8. Age of Property & Age of Property.1\n",
    "    - inconsistent values\n",
    "    - both attribute need to be combine\n",
    "\n",
    "9. additional rooms & additional rooms.1\n",
    "    - need to be combined\n",
    "\n",
    "10. balconies & balconies.1\n",
    "    - need to be combined\n",
    "\n",
    "11. New/Resale & New/Resale.1\n",
    "    - need to be combined\n",
    "12. Amenities(1)\n",
    "    - unnormalized form data\n",
    "13. furnish_details(2)\n",
    "    - unnormalized form data\n",
    "\n",
    "\n",
    "\n",
    "\n",
    "\n",
    "\n",
    "\n",
    "\n",
    " "
   ]
  },
  {
   "cell_type": "code",
   "execution_count": 204,
   "metadata": {},
   "outputs": [],
   "source": [
    "def data_clean(df:pd.DataFrame)->pd.DataFrame:\n",
    "\n",
    "    df_= (\n",
    "        df\n",
    "        .assign(   \n",
    "            bedroom=df[\"name\"].str.extract(r\"(\\d+)\"),\n",
    "            type1=df[\"name\"].str.split(\" \",n=1).str.get(1).str.extract(r\"([A-Za-z]+)\"),\n",
    "            type2=df[\"name\"].str.split(\" \",n=1).str.get(1).str.replace(r\"^([A-Za-z]+\\s)\",\"\",regex=True),\n",
    "            size=df[\"size\"].str.replace(\",\",\"\").str.extract(r\"(\\d+)\"),\n",
    "            address=(flat_data.address.str.lower().str.replace(r'[A-Za-z0-9\\s]*?4 greater noida wes+[A-Za-z0-9\\s]*',\"4 greater noida west\",regex=True)\n",
    "                    .str.replace(r'[A-Za-z0-9\\s]*?(extension|ext)[A-Za-z0-9\\s]*',\"extension, noida\",regex=True)\n",
    "                    .str.replace(r'[A-Za-z0-9\\s]*?ambedkar city[A-Za-z0-9\\s]*',\"ambedkar city, noida\",regex=True)\n",
    "                    .str.replace(r'[A-Za-z0-9\\s]*?yamuna express[A-Za-z0-9\\s]*',\"yamuna expressway, noida\",regex=True)\n",
    "                    .str.replace(\"surajpur site 4, noida\",\"surajpur site 4, greater noida\")\n",
    "                    .str.replace(\"knowledge park 3, noida\",\"knowledge park 3, greater noida\")\n",
    "                    .str.replace(\"sikandarpur village, noida\",\"sector 87, noida\")\n",
    "                    .str.replace(\"dallupura, noida\",\"sector 10, noida\")\n",
    "                    .str.replace(\"pristine avenuegaur city road, noida\",\"gaur city, greater noida\")\n",
    "                    .str.replace(\"migsun vilaasaeta ii, noida\",\"s block, greater noida\")\n",
    "                    .str.replace(\"nirala greenshiregreater noida west road, noida\",\"greater noida west road, noida\")\n",
    "                    .str.replace(\"home and soul f premiereyeida, noida\",\"jal vayu vihar, noida\")\n",
    "                    .str.replace(\"apte gra indraprastha phase 2shramik kunj, noida\",\"sector 93, noida\")\n",
    "                    .str.replace(\"apte gra indraprastha phase 2shramik kunj, noida\",\"sector 93, noida\")\n",
    "                    .str.replace(r'[0-9a-z ]+sector',\"sector\" ,regex=True).str.replace(\"-\",'')\n",
    "                    .str.replace(\"noida, \",'')   \n",
    "                    .str.replace(r\"sector[\\s0]*\", \"sector \",regex=True)\n",
    "                    .str.replace(r\"[A-Za-z0-9\\s,]*greater noida[A-Za-z0-9\\s,]*\",\"greater-noida\",regex=True)\n",
    "                    .str.replace(r\"[,]* noida\",\", noida\",regex=True)\n",
    "                    .str.replace('dream house sr construction dream house sector 73, noida',\"sector 73, noida\")\n",
    "                    .str.replace(r\"sector 93[\\sa-z]+, noida\",\"sector 93, noida\",regex=True)\n",
    "                    .replace(\"sector 143b, noida\",\"sector 143, noida\")\n",
    "                    .replace('sector 16b, noida','sector 16, noida')\n",
    "                    .replace('sector 140a, noida','sector 140, noida')\n",
    "                    .replace('sector 15a, noida','sector 15, noida')\n",
    "                    .replace('sector 25a, noida','sector 25, noida')\n",
    "                    .replace(\"greater-noida\", \"greater noida\")\n",
    "                    \n",
    "                        ),\n",
    "            price_in_lakh=((df[\"price\"].str.replace(\"EMI\",\"\").str.extract(r\"(Cr|L)\").replace({\"L\":\"1\",\"Cr\":\"100\"}).astype(float))*\n",
    "                            (df[\"price\"].str.replace(\"EMI\",\"\").str.extract(r\"([0-9.]+)\").astype(float))),\n",
    "            rate= pd.to_numeric(  df[\"rate\"].str.extract(r\"([0-9,]+)\").loc[:,0].str.replace(\",\",\"\")),\n",
    "            carpet_area= pd.to_numeric(  df[\"Carpet area\"].str.extract(r\"([0-9,]+)\").loc[:,0].str.replace(\",\",\"\")),\n",
    "            age_of_property=(df[\"Age of Property\"].fillna(\"\")+df[\"Age of Property.1\"].fillna(\"\")).str.extract(r\"([0-9]+ y)\").loc[:,0].str.replace(\" y\",\"\"),\n",
    "            floor=pd.to_numeric(df[\"Floor\"].str.replace(\"Gr\",\"0\").str.extract(r\"(\\d+)\").iloc[:,0]),\n",
    "            total_floor=pd.to_numeric(df[\"Floor\"].str.extract(r\"(\\s\\d+)\").iloc[:,0]),\n",
    "            additional_rooms=pd.to_numeric(((df[\"Additional Rooms\"].fillna(\"\"))+(df[\"Additional Rooms.1\"].fillna(\"\"))).str.replace(r\"\\([a-z\\s,]+\\)\",\"\",regex=True).str.extract(r\"(\\d+)\").loc[:,0]),\n",
    "            price_negotiable=(df[\"Price Negotiable\"].fillna(\"\")+df[\"Price Negotiable.1\"].fillna(\"\")),\n",
    "            balconies=(df[\"Balconies\"].fillna(0)+df[\"Balconies.1\"].fillna(0)).replace(0,np.nan),\n",
    "            type_of_sale=(df[\"New/Resale\"].fillna(\"\"))+(df[\"New/Resale.1\"].fillna(\"\")),\n",
    "            booking_amount_in_lakh =(pd.to_numeric(df[\"Booking Amount\"].str.replace(\",\",\"\"))/100000)\n",
    "            )\n",
    "                      \n",
    "    )\n",
    "\n",
    "\n",
    "    temp1=df[\"1\"].replace(r\"[]\",np.nan).str.lower().str.replace(\", \",\",\").str.replace(r\"lift(s)\",\"lift\").str.replace(r\"\\[|\\]\",\"\",regex=True).str.split(\",\",expand=True)\n",
    "    l=[]\n",
    "    for col in range(24):\n",
    "        for row in range(9132):\n",
    "            x=temp1.iloc[row,col]\n",
    "            if x not in l:\n",
    "                l.append(x)\n",
    "    l.remove(np.nan)\n",
    "    l.remove(None)\n",
    "    temp1=pd.DataFrame({f\"amenities_{e}\":df[\"1\"].replace(r\"[]\",np.nan).str.lower().str.contains(f\"{e}\") for e in l})\n",
    "\n",
    "    temp2=df[\"2\"].replace(r\"[]\",np.nan).str.lower().str.replace(\", \",\",\").str.replace(r\"lift(s)\",\"lift\").str.replace(r\"\\[|\\]\",\"\",regex=True).str.split(\",\",expand=True)\n",
    "    l=[]\n",
    "    for col in range(11):\n",
    "        for row in range(9132):\n",
    "            x=temp2.iloc[row,col]\n",
    "            if x not in l:\n",
    "                l.append(x)\n",
    "    l.remove(np.nan)\n",
    "    l.remove(None)\n",
    "    temp2=pd.DataFrame({f\"furnish_detail_{e}\":df[\"2\"].replace(r\"[]\",np.nan).str.lower().str.contains(f\"{e}\") for e in l})\n",
    "\n",
    "\n",
    "    df_=(\n",
    "        pd.concat([df_,temp1,temp2],axis=1)\n",
    "        .rename(columns=str.lower)\n",
    "        .drop(columns=[\"price\",\"name\",\"carpet area\",\"age of property\",\"age of property.1\",\"additional rooms\",\"additional rooms.1\",\"price negotiable\",\"price negotiable.1\",\"balconies.1\",\"new/resale\",\n",
    "                            \"new/resale.1\",\"link\",\"name\",\"1\",\"2\"]) \n",
    "    )\n",
    "    df_.columns = [col.replace(' ', '_') for col in df_.columns]\n",
    "    return df_\n",
    "\n",
    "        "
   ]
  },
  {
   "cell_type": "code",
   "execution_count": 206,
   "metadata": {},
   "outputs": [
    {
     "data": {
      "text/plain": [
       "(9132, 62)"
      ]
     },
     "execution_count": 206,
     "metadata": {},
     "output_type": "execute_result"
    }
   ],
   "source": [
    "data_clean(flat_data).shape"
   ]
  }
 ],
 "metadata": {
  "kernelspec": {
   "display_name": "venv",
   "language": "python",
   "name": "python3"
  },
  "language_info": {
   "codemirror_mode": {
    "name": "ipython",
    "version": 3
   },
   "file_extension": ".py",
   "mimetype": "text/x-python",
   "name": "python",
   "nbconvert_exporter": "python",
   "pygments_lexer": "ipython3",
   "version": "3.11.9"
  }
 },
 "nbformat": 4,
 "nbformat_minor": 2
}
